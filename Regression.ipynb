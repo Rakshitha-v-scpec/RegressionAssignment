{
  "nbformat": 4,
  "nbformat_minor": 0,
  "metadata": {
    "colab": {
      "provenance": []
    },
    "kernelspec": {
      "name": "python3",
      "display_name": "Python 3"
    },
    "language_info": {
      "name": "python"
    }
  },
  "cells": [
    {
      "cell_type": "markdown",
      "source": [
        "**Questions**"
      ],
      "metadata": {
        "id": "cEYIpLTm6EZX"
      }
    },
    {
      "cell_type": "markdown",
      "source": [
        "1. What is Simple Linear Regression?\n",
        "\n",
        "    Simple linear Regression tries to find a best fit-line which must connect the data of x & y.\n",
        "\n",
        "    It has one independent variable & one Dependent variable\n",
        "\n",
        "    \n",
        "\n"
      ],
      "metadata": {
        "id": "59VlyweE6G0m"
      }
    },
    {
      "cell_type": "markdown",
      "source": [
        "2. What are the key assumptions of Simple Linear Regression?\n",
        "\n",
        "    Assumptions:\n",
        "\n",
        "    1. Linar Regression is liner in parameter\n",
        "    2. No auto correlation of residuals.\n",
        "    3. Number of observations must be greater than number of variables.\n",
        "    4. No perfect multicollinaryity\n",
        "    5. Noramlity in residuals\n",
        "    "
      ],
      "metadata": {
        "id": "vLdpqmqH6wpm"
      }
    },
    {
      "cell_type": "markdown",
      "source": [
        "3. What does the coefficient m represent in the equation Y=mX+c?\n",
        "\n",
        "    coefficient m represent Slope."
      ],
      "metadata": {
        "id": "_6RoDKVA7q7s"
      }
    },
    {
      "cell_type": "markdown",
      "source": [
        "4. What does the intercept c represent in the equation Y=mX+c?\n",
        "\n",
        "    Intercept of c represents value of Y when x = 0"
      ],
      "metadata": {
        "id": "Ygb1psjX8BYO"
      }
    },
    {
      "cell_type": "markdown",
      "source": [
        "5. How do we calculate the slope m in Simple Linear Regression?\n",
        "\n",
        "    To calculate the slope of m we use;\n",
        "\n",
        "    ![image.png](data:image/png;base64,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)"
      ],
      "metadata": {
        "id": "ll4YE2HU8YKI"
      }
    },
    {
      "cell_type": "markdown",
      "source": [
        "6.  What is the purpose of the least squares method in Simple Linear Regression?\n",
        "\n",
        "      when we use the formula of cost function in linear regression without square we might get negative values to avoid that we used Square.\n",
        "\n",
        "      "
      ],
      "metadata": {
        "id": "XOlSTlsl9M4F"
      }
    },
    {
      "cell_type": "markdown",
      "source": [
        "7. How is the coefficient of determination (R²) interpreted in Simple Linear Regression?\n",
        "\n",
        "    R² is interpreted by percentage of variable explained by taking x variable in account while building the model.\n",
        "\n",
        "    R² will not give the actual picture of the model, it does not care about the feature."
      ],
      "metadata": {
        "id": "8k1eXs0d9qAB"
      }
    },
    {
      "cell_type": "markdown",
      "source": [
        "8. What is Multiple Linear Regression?\n",
        "\n",
        "    Multiple independent variable contributing is called Mutiple linear regression"
      ],
      "metadata": {
        "id": "zbL9A4rX-dJI"
      }
    },
    {
      "cell_type": "markdown",
      "source": [
        "9. What is the main difference between Simple and Multiple Linear Regression?\n",
        "\n",
        "    Simple Linear Regression:\n",
        "\n",
        "      - It has One dependent and One Independent variable\n",
        "\n",
        "      ![image.png](data:image/png;base64,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)\n",
        "\n",
        "    \n",
        "  Multiple linear regression:\n",
        "\n",
        "  - It has more than one independent variable and one dependent variable.\n",
        "\n",
        "    ![image.png](data:image/png;base64,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)"
      ],
      "metadata": {
        "id": "kxf6ONQABAYL"
      }
    },
    {
      "cell_type": "markdown",
      "source": [
        "10. What are the key assumptions of Multiple Linear Regression?\n",
        "\n",
        "    1. Linearity\n",
        "    2. Independence of Errors\n",
        "    3. Homoscedasticity (Constant Variance of Errors)"
      ],
      "metadata": {
        "id": "5ZccyMaDBxwM"
      }
    },
    {
      "cell_type": "markdown",
      "source": [
        "11. What is heteroscedasticity, and how does it affect the results of a Multiple Linear Regression model?\n",
        "\n",
        "    Heteroscedasticity occurs when the variance of the residuals (errors) is not constant across all levels of the independent variables in a regression model.\n",
        "\n",
        "    While heteroscedasticity doesn't bias the regression coefficients (your\n",
        "𝛽\n",
        "β values), it does impact the validity of statistical inference:\n",
        "\n",
        "    1. Incorrect Standard Errors\n",
        "    2. Inefficient Estimates\n"
      ],
      "metadata": {
        "id": "Xva2xcHsDlx4"
      }
    },
    {
      "cell_type": "markdown",
      "source": [
        "12. How can you improve a Multiple Linear Regression model with high multicollinearity?\n",
        "\n",
        "    Multicollinearity occurs when two or more independent variables in your model are highly correlated, making it hard to accurately estimate their individual effects on the dependent variable.\n",
        "\n",
        "    1. Remove One or More Highly Correlated Predictors\n",
        "    2. Combine Correlated Variables\n",
        "    3. Principal Component Analysis (PCA)"
      ],
      "metadata": {
        "id": "Qe9QDcQygSak"
      }
    },
    {
      "cell_type": "markdown",
      "source": [
        "13. What are some common techniques for transforming categorical variables for use in regression models?\n",
        "\n",
        "    Techniques:\n",
        "    1. One-Hot Encoding (Dummy Variables)\n",
        "    2. Label Encoding\n",
        "    3. Ordinal Encoding\n",
        "    4. Binary Encoding"
      ],
      "metadata": {
        "id": "uTpXFIjigg_J"
      }
    },
    {
      "cell_type": "markdown",
      "source": [
        "14. What is the role of interaction terms in Multiple Linear Regression?\n",
        "\n",
        "    Interaction terms in multiple linear regression allow you to model situations where the effect of one independent variable on the dependent variable depends on the value of another variable.\n",
        "\n",
        "    ![image.png](data:image/png;base64,iVBORw0KGgoAAAANSUhEUgAAAwIAAADBCAIAAADzSpBoAAAgAElEQVR4Ae2dTWvbTNv3n6+iL2LyAUIX98W9MXRhyKJwwW0olHBDCYViCiehi5NwQh+3UEyhmIJBhYAWBS8K2gSFh+IugrIIyiJUi4C4CGgR0MMxr8eMJcdvSZzkb0qtl5njOOY3o5m/RyPl/wT4gAAIgAAIgAAIgMCTJPB/nmSpUWgQAAEQAAEQAAEQCCCD0AhAAARAAARAAASeKAHIoCda8Sg2CIAACIAACIAAZBDaAAiAAAiAAAiAwBMlABn0RCsexQYBEAABEAABEIAMQhsAARAAARAAARB4ogQgg55oxaPYIAACIAACIAAC9yeDng/TsqqKeH+jK6EXX1bVdRY+3+gobw7uW0qs396c8P5TvI2Lewu1FxcVfU6H989hsyMYnlKD6i0a5H1Wro2Vgt/cKhaN8IbwKE0T/s0una0FbIHAhhBYSQbR9ValS44YUgbl44V70jsl1xvnVVWmQ8igO8N+fyMlxo/5K5lYNY3DM6zcX+XyoDa7oiGDeF1hGwRuncAKMkj0aEVRpd9uO8r96Lwo88V/ei4T1x346g6P86JcVj4uU6gHlWfFkZLmvZZjO+MX9oxTD4rtvQe7YuWuKf6VZdC9t4dZAaxcujVRhhkQeCAElpdBdCGeDmddjmtDMEyrpX56LhPAHfgiZssO1csU6YHlWXGkhAza5PpesXLXVLSVhcKddHuzCjsrgJVLN8sxzoHA4yOwtAyi61DMAw1TbyWHHIeov1OfhukiLjiUMghfh+mlyHVdTD53CDdZYx81D7+9N0qLUqXM4r5IqhIXv8YTYUT43R3EOmVVFedxf8dUIjNSVeVZ1K3xpQIzN/6234STC12yskjH2nWgitP/EGdXIrCrbPyuZZypDYZFJFLzFttvwvRSlocHKW1Oxr+ER1ouoL18nhTXwkCe9HdaREPuXk4GtoDMORcHPIaG+xrUk+pPQ/WpjlgCEmnZHIx0J3lqFyylvzKDnSrib2xt0DdqXOy2KRWfxcPyieM87Cah6eQxKzA4E8dFELinirjnDjPCnrFDFWTWYDmuWNisXtSmqFYF3GQPgoAsFPFQXku+BQpM4pI5BX/bhll1kJemYOpc8CLbojlhcwhymzlwXLPjbuWSPVZwW9EypB7L6Bh0asSEJ2m8tQatPc/R6ZAH76GxkJsMcjjTv874hSaAqcJ4MbAJSxkM/a+ssRxutbESzUI0V+mc9iCbHKFjLkT0+A8EngCBZWUQu9q9q04JF309ib7M7cUUVtFhqWQiVVWWV0U6Dse/cqEIxMLkVwfhKMmrqrpKx6Mw/NJrBy2ZujgZh6NwfEISofgpxko1BpTpqKsFyDAt8zSOTMrqLGxTAO3hiXBSZMk4DMeT/Hzcq/ElXan4W+/EeHRdkMHDOBXipIh7wpcoznVZXmXJYRSfiXNXib8A/HlvMBqnpJPyZBSGo4PdIFBmC1HAsbB6Kcd+1aeXp2F3S1LTXiixTFpVl0VRktPkQpRIFdBtvLa+yILu63vxKRcZOsvbODWHKSMfmHUa3Y3qeg5EP64rWlaEGaIC96zMq3O6LUQWWXucJYNESuPiW6oKZUtqQrUbTpBuGFpzMNFl81GMOl6ptnVJ1aCod613NzyRzFqwlpXMsqcEOltBonXXr22XrlVO2VDNOCZ2DRypNsyuE4zMqIEHMh6z69mxcfOrXlA1fJwsYkfDUaLHGOdNUbQQtyyGiVNrFLyxwHxJGkZeEEaTjBwZayKPFeK0a84JIwr+LINOJguFtpxC8d1enJp6pBJpp5KernGjfWU7HKZurelkqhDahnN9kUGdywmUlc5NIwNzKLmFwh4IPGYCS8ogfhUJ3WN6OjlImA5oul8wNOmq032BvKrL5G+pXlqya5h8kol5yiB4HmZVVf0eaKFzkFxV1VVyYKaOziMhdGTeVksJiCAIRMrrST8IgvcJSYbLuGfP1vlSg70sXTs8q6rKBBkEW4MJzcGkQzIigqyySE3GyBLl45emvGZDnjLEhNnryUBHcnBcCi/Mpl2gLb3kysvziFBUZfJeGN8SZ2UBjTe5YYZn6gp57XjppnfJpu58+VlRCt3bihMspTMIeSOrSGvDYLmkeXtKtCXT09NZm5jcO6dkZlej6GPqm1uWh5wjjSanFJKd8qE8p6mZARK7NHU4bWv6iAzBuZTEIXaEMpkhTZXCfDnBT113psZvCMZ3MTx1uTI7xjPVBBtraZvXhc1i60vlZTGTY95+7Ck/JF7vjeFRdt5QyYgMym7pArDgbVXKk/ZUs8E6otq0S8bvG00qi4jrP3l6Ot7p4zcg0mCbStfkwsSHDRB4QgSWk0Fe7+busitcgHTPWrZ0XPee4qo2v+RkN2M7NZ4yCL66t8nUrQShKsi1Nqkcbe99jSeneXFVlvK2kfDS/UETTNkh00sqvevLkUHeKcpAnaZSFf5ZdsqWWWx5hRUZVSnsl1Aevk0ltuyQIxJICUimPcvML6sUEVjz4CoziTHARNMkg2wg2rs6wtzRGX9SR4VKZsmRUYTCNx3RQs3PSOWVwfjDoQxbSWHXID/lRiyJ6dLNGBu8U3Z3eErx6GDoeGN40yWlwGwWEybDZR3Zs2aLg5ouOKsCHZ7JybF7Lmh36lPD08oFb+DnkUwXmcWs2qHjTNa7FxJXlc3hMcuinNbIdPFt8JRr6iPFWbNBWWt+UzJ0KaMi5rl2o7dptGqRJmzkYt/pH7RTLw1HxBTqjNKJrrLpxrEpCjZA4CkQWEYGuRez7kT0BTr1A8gOXS5QcXmrXNKk7W3VvnoGjaeUv3qr4rjffdll/zrbqv91ZFDvp7ipcBZHo+HBm35Ce+RF2s9GekbJRub6coSFd4ryiK5c9t3+WXbKWhdbXmFlxqTvFKfbeaYmP5zyyDkng9rf9Swzv2xQZDHUiyE3cgpPCwVmUJCxgdAZ8q6OeO58NcOGfzZmKOt8+PEz2mC8AcZG5rm2J2aqMS9+nqvulC7qMJUDnoyTlaUmPHaWmSdLPl5bau2HZbCbHBQXHzIF4zAzGM9FXTzWpd2ySmIFGeS2H2PcC4k3rebwPBqsNU4X3wZfXykikmaDTlM3UdsNEySfjHH7B7d2mmQQGbJXH8fCt6Vje2Su0olM0j7EkK06bD1JAkvIIHu9WWJ0VbNf8PrHkEhghy6bnrZ4vyCvx/lk0Et6lQ+Nt/oukjVLYeiRmI66ZuU9IxnbpwnJt/NIra22JnhUnoWucmwWPm/1J1dVpe5neRm5QrLWxZYbVTBl1ib3bbrQPIZetNYKbbFu156oPchuPImUFIM/TtOJqWbAhw3PMj8l3ZsjtOHap7wNbYklnnKvi+W51ofp2zg1B50jjSYbCpsOv6V6ABN6yO5O06k5IqOwg5aOih2ZEdJUcbyCs91pK+wI2xQBMO86oLpvnoxvU1rjmtWXskGnVOX6jq2XqTOsmnxfJhdLI45ZI5TFEVx0ilWc2/zmMFjTHkwu4/t0yGb1GBOZ0iCaFpG2pdgiGKu6HN4ppzEwRE0XLw93njQ8PbZB4LERWFwG+d2NJMIuS3aFi3NNlxkd192T6JiYeFL7ajZIrOmpyvwoio+inl3dnMaHYTgaJ+fF5KtwRa61STogFUaV/4rC0Ti9lPfFpNjaFZqmqgoyEsUpLZGmLJ4vJ7DWpwmtKHKXSOfRrikm902dke7xRQLzXzs6Jw1WnIyjX/EwCNpf6X3ayuwoHB9lxW/5aBpHJLN7R7xdJ1rjjzZMpfjLn6301OnJiO5tpZirHSekL3NK7Jpsxp02KmgYXyKxXhfinhIlstxoV1v1PIqU2khglkjXt08Vh+vLCWP22EYZjS8y5gWjdnWoWqGaLBSVYaWhyG9xymYkdFoF2hHRzWIzmpSsiuVZpwpcVk4wFLn1rpoKC5U3GBYFB8K3KQlz7QJ3K9creGCWA9exNSGS8brwyBqjwdG5jpR1XTVuhIFdyDzDYI12YWhok2RxKm6YqhOONclBXQ4+PRY5PyXD1hhmIeK5GkrHn42gYMTvHNrQ9r3iYBcEHjOBhWUQXVd114q4LsWFzTpBQc5cZh5H0RcoU/KqNsOkGmTMJETHPB9+HnWDINjqDo5y9Yh4VZWXaSj/TIToInl0rdeRfJ6roifw+3KOWT39vrUX/tJGrsviuC8XCrm+/MA6H0hOqRuBRT4Z7en7arw4VFLRAfF+2Ra/9W6sH6pPaL120Op+SXKzSKEs0u/6ORFX1q1hNkgMCfpGpgVug1OzJipJ+q2p+oiMeZZbyDrzdJkzEBrLAogmx9JqVvJUOnQGDGlKnipi8Ti0aRWKhjJpy6Id2SMmBteX15BliWqfFJO/tsmTaV2iZVgXYterbtEkVHjeKR6RNS7SWpuzlZk/ueVdd96unHytCaau1OI6UmnZjxMeNEHmSkJvUxrXta4OcT/aq1ynNRpEMiT1mgAKw0CXEdSG51lmYoIyMUdTrzxQWl+V1xRkPoNeaAaRKDWvStWnCS9iHlGD5SRFdl4jtgnJa027m4XIM8j4myqj7OajLyjype2bcmADBB4/gYVl0ONHghLORYB31nNlQCIQmI8AmtZ8nJAKBEBgHQQgg9ZB8SnawFj1FGv9TsqMpnUnmOEEBEBAEIAMQkNYjgDGquW4IdeNBNC0bkSEBCAAAmsjABm0NpRPzBDGqidW4XdXXDStu2MNTyAAApBBaAMgAAIgAAIgAAJPlABk0BOteBQbBEAABEAABEAAMghtAARAAARAAARA4IkSgAx6ohWPYoMACIAACIAACEAGoQ2AAAiAAAiAAAg8UQKQQU+04lFsEAABEAABEAAByCC0ARAAARAAARAAgSdKADLoiVY8ig0CIAACIAACIAAZhDYAAiAAAiAAAiDwRAlABj3RikexQQAEQAAEQAAEIIPQBkAABEAABEAABJ4oAcigJ1rxKDYIgAAIgAAIgABkENoACIAACIAACIDAEyUAGfREKx7FBgEQAAEQAAEQgAxCGwABEAABEAABEHiiBCCDnmjFo9ggAAIgAAIgAAKQQWgDIAACIAACIAACT5QAZNATrXgUGwRAAARAAARAADIIbQAEQAAEQAAEQOCJEoAMeqIVj2KDAAiAAAiAAAhABqENgAAIgAAIgAAIPFECkEFPtOJRbBAAARAAARAAAcggtAEQAAEQuAsC2zsv2lt34ehefLTaLzrP7sUznILASgQgg1bCh8xPisD2q4PhKBz+s7t9L8Xeavc+h+Fo0Gu37sX/epw+jlIErfa7QTgKB+/mrYzO50l+MuysB+JGWtkZppfpcGcjY0NQINBMADKomQ3O3DuB/xqmZWU/12V22DVBHRyzc+eRPWFSrHFjqzs4zvNf43AURr+KKo97d/uzfvv9OLtI48MwHMVZWabfbh5PB5xPVVUS0f+Ocwu0Ko/7a4R0o6klShF8TsprFvF1Fr0MgmDXKcZVcqfFeLY/PsvTOApHYXxWlvOIm7dxUU76U21ms+poZdStv5Pi8q4vjRtbHRKAwGwCkEGz+eDsBhB4JYe8LHruBbM7zss87nenRhcv3cq7rf7vgimPYVpV6deVrc5v4NU4Z8KrFxfVZbw3V/Z2eEYaovhpk7c+Tcoyi+aexpjLzzyJli9F0P6eUTF4qbf6k6syi3p3fptpd3yRx+/0hNzbuKiK+M3s8pNoy763GxJtUh0FK6JuDX5XRdxrKCkOg8AmEoAM2sRaQUwugXZ0ToOgO5C0ejFpAz0cuTnWutf6NMmPD6yjrTCrqvTbkj72fuYLSqjd8UUWsXsNJIPmHmpanyfELh/vynh3hmmxjjsXb+L8ZLgIgpVKEWwNJjQnlI9fSZ+d4SkXposEwtMuXIpg90eeHbKpuHeiMt5yo/42VcH1ZNAs1m+rjvxA5ttfEfX7pKyy0P/F0uh68cuh0RROgMByBCCDluOGXHdKQE0GnEf6B3Vr7zArTu9mpUU7PHO6dTFomfF4YQ69uFhMQr1P8qN95oamFsrffSvL2Lm6zf3kqqqqMnkfBKSB8rGZyahLPe+xt3FxuogMWrUUwf4R3QMtCQVpoPzHOhTwoqUI9pOLZKoyau52MYyt4WlV/Z59125tddR5s8c0Govi2e7u/8zbZFZDfZBcVdmhvlJZCLWbC18OtVZwEARWIAAZtAI8ZL0zAs9pAqaq1H2xzre0vLMlCM+jjORXq/3vbvfli/azXnxJczHzDilTiBbt9w+O8+TvIHjW6b7sdne2qezlYtM5ah3NSUzTZ2vRQEEQLCggVi9FIO+NXqeiGMvzdypkwVIEfyf58UEQbHdedrsvO9s7Q6qMG9Zp9SfXVTa6ob2sq452v2fF9FqlnX6yUNWvhnp4UlVn4Q0F1tWw4OVAK9PHR2l6kibjwR4eTNMY8b0KAcigVegh750RUOsn8h/d1rs4z5M+u0l0u0F8TfMfXWc59ulw3p+6dZEt2O/vxReT/otIqEBSglVVLCxlnqvs2ah+pqAuzJuOLSYg1lGKQN0brc7CtRVjsVIEez/zyacX8hatroybBJlcPDTzrhmxXlsdtXo/cmeidFENRNGshHqhm7YLXA5bvfF5WRZ5ekIyKL+iKc6Dm9opzoPAjQQgg25EhAQbQaD1LRUaIM8XWNpykFyW5dUN/4qjWX3pwXEevwuCrfaLl93uv9utnSiTN5gkla327j/DwV+d+R+hX6Dfl6Oj+GG9vdPtvux2nrVIkJ2Fjg7b2du7YSnG3viS4LmLq/xqbb3eU+uH/DN1+wsJiOdRNqsUrfb/Hgy/Huze9Oz53rigYnjFt9Ftd/4ahJ/3F3h7zUKlIHGQhVt2Zq71t7sO5lln//Ng/99uMajdTq/ut0HrrXnqqLX3ep4qYkpoGQ1EEa2EmoqcznnHdP7LYf8oT0ddO8m01X6xM/9lpzHjGwSmCEAGTSHBgc0ksEXPZy0zF7JSccQ0hmOBfuuWdGckCLZolXbyeW/vM91zqH+EXuonuoei/vWPi+zQ7orjzSpKzEU5/u2w2u59ieKTvLwu4lmTDZ3+cZ5fiMfkzUJpx+LuwWicnBczhy55T5CF/SEpziJTKLnRqD9mlaIzPMnTcRgeTvLrKv/ZOLnS+ZDkeZ47C6VZMbZ68XmWHIbhz6y8brpRtVopgmF6MXbfy0BtUq6Daf2TZCfRwZv94W/3fQpzaYKb6ujVQThOssuqmnc9llBCZ8lkoXthGueqqG0T1RbN9wqXw/Akj1+3xe3I7gtXahrz2ACBJQhABi0BDVnug4C8a5B749AtR6KnMZgbkkGVeEhq/6hUeigIDo7LWo3xrw9jOYdv/s8uq/KCZvXZv2RI78Kp+ai5KHamNcpIC9IT2jSod54N02qGDJLP0+1vB2wRLrMmNrc7L1+06Ymn5l/w/9UfOwGn6VlRXanbE6YgyVdXJGhHs0rxPimKNBQyrn2Y0bNgdSjEndB4/xlfKK2ti+/294zenSBmxWjC7HpSsyZ5tVLQwiDvUXDxzKB8GQGtg74Sq6fpLhh7n8LNMmiOOnrW6f67TS1vXhkUBDuD9Ipmzha9gbgG1FTk+pcIrHI5dL9n5kVh5a+a6nUaBHZAYG4CkEFzo0LC+yXwiR78nvs5cRnr1K9/PSXjTGPMmFqfnsZ4SS8xyn90g2BPrpWWnmiImk+izX8XgFxc+MN5/3fljvGzZFDnW2qWiahFuL8H9rYCr1AavJtlEE8ptxe4nTSzFO9pcm3yQRj1BIRxyh/yV6t3/efP26QOc/FmxSBoHoaNSbWxQCnkwiDXgGiTk090sPM+Go/2iC3dKRPP5cm0N8mg+etoARm0M5gUefxue+EHKteC+qYic4jzXg5v4+wkvP03hPHQsP1UCEAGPZWafujllIuU5ZAzd1k6+1/DcHTTv38a11scHJfeMz5iLki+xYeeADKyjI6bnZnxzdvvy4VBns3nw/SabskxKdMog2h8vRjbW3X6abv6d7rcngx6HmU3l4KQidkg590EdNR/yF8tlp+xzomaipyYmVkRdHIBGdSOzgtaJWY/bTkDdGBeCERP8x3El+6tPVJF9VMjJJ4WqaN5ZZDSQLKNLPJqiTWhFvU4r6Se83Lo/xZL9Cx8bIHA2ghABq0NJQzdJgEhPyqxQPU23bi29+K8Ktlthe33cWHXndC6EDO+i/jm6vrn7Pcpkq/Cg3nEfasbnpZTf8ejTgZttXujtLhO3Vf26bdQ8rf/mQLfngyaqxRBsHWQXJXZdy5JW+13YVpU6Rem+pRaor8NUn+7ZyfKrovkb2cRuSmlv7GADCIByl6U0OqO0vLafQHBq4NwFMVneRrt27W7YvqwRr4vXkdzyaCdweTSjSqYRwmtEzXFOd/MaBAEc14O/d+l85zjs/34HI+J+c0Z+8sRgAxajhty3RmBweSqtH9V6rosfw3uyLd4Y1D/Z17kYh3PeVFepuEbM8Dd+mwQvWvnyzAtikw+IVwUWc1fDvFkUD8RT1PRanLx1yf0u/4GE7Owgt5CWKbfXzgYb00GzVeKzvCkyA7FTSURVv+YFeO6iP9SwQ5+sWJcl+Vp6BRDLlr/UC+QnPLKnfllEL0xaDA8KYpz0RjyojiP+7UvJBSL2PIfRs8JVUB3Uc1nyTqaRwYNjrO69ymQaPNrXIezbtSkts3PA+2k8XtOGUSTgiW1W/ngZ3WdJ/PXcqNznAABIgAZhHYAAg0E9MKgVvuFeFjdS3bba4PMkhrxsj7vMWwbiyeD7InFtm5LBs1Tik7/KFWj2vswvOHvczUXa2svOkmj1zR11P0a9v+7OaU5M7cMEm8MomzizQUvpv6QWS88SZPPUn6JRxrZWmZ6KbN9AbrxvfDGPDJoYaPLZZiBmu69sqVRN9mfVwbRg5nt3mdxg/vz3f8huZuKgfMPmQBk0EOuPcR+mwSmn2/yvPEnxfq/7Z/t8pJ5u+1PY/lglHfc3615SM1PIvbvSQY974+/z/EXNG8uRasXZ5Ove7Ro/a/B+DStfVKstuTuwc7wdzp+v9t92d37Z5ic+UvL3cR6b85SmDcG6XxT3yR91ONL4vEx8Uc/dCp619Tyf31FW6H7Rws8KWayrX9jFurOYdZ4v7Iuknkvh7q8OAYCayEAGbQWjDDy+AiYaYzmom0dJMVN7w1qzn3DGT0X1ZysOzxKU3rfT1XSbbtI3/9qzlF/Zj86SdOcbjbRHZ+jIb9/U59j/qM3luKDc7Nu5ruLZnntRuLFSOpeoPu36Gflm/Pc9BuDvIyt3s8s/zUefh5EJ+57g0TC3s9ikT8D5xkPgvcRvTe5rKprukPa9GKCqWy3cmAWaroiFn/L+a2ECaMgMC8ByKB5SSHdEyOwH/3gD2Q1lH6r/eKvg4M3ze8/bMh34+Hu1/FQ/TX1G9NuboLHUYrg5XD8zaz1aaS9vdOteYu0Sk5/Dvamvz7WaPmBnGgdHBczXoD5QEqBMJ8cAcigJ1flKDAIgMA9EKD1NBN3Rfc9RHF7Lv/1JUl/NL4E/Pb8wjIIrEgAMmhFgMgOAiAAAiAAAiDwUAlABj3UmkPcIAACIAACIAACKxKADFoRILKDAAiAAAiAAAg8VAKQQQ+15hA3CIAACIAACIDAigQgg1YEiOwgAAIgAAIgAAIPlQBk0EOtOcQNAiAAAiAAAiCwIgHIoBUBIjsIgAAIgAAIgMBDJQAZ9FBrDnGDAAiAAAiAAAisSAAyaEWAyA4CIAACIAACIPBQCUAGPdSaQ9wgAAIgAAIgAAIrEoAMWhEgsoMACIAACIAACDxUApBBD7XmEDcIgAAIgAAIgMCKBCCDVgSI7CAAAiAAAiAAAg+VAGTQQ605xA0CIAACIAACILAiAcigFQEiOwiAAAiAAAiAwEMlABn0UGsOcYMACIAACIAACKxIADJoRYDIDgIgAAIgAAIg8FAJQAY91JpD3CAAAiAAAiAAAisSgAxaESCygwAIgAAIgAAIPFQCkEEPteYQNwiAAAiAAAiAwIoEIINWBIjsIAACIAACIAACD5UAZNBDrTnEDQIgAAIgAAIgsCIByKAVASI7CIAACIAACIDAQyUAGfRQaw5xgwAIgAAIgAAIrEgAMmhFgMgOAiAAAiAAAiDwUAlABj3UmkPcIAACIAACIAACKxKADFoRILKDAAiAAAiAAAg8VALLyKBeXFRF3POK/C2tOeilwS4IgAAIgAAIgAAIbAwByKCNqQoEAgIgAAIgAAIgcLcEIIPulje8gQAIgAAIgAAIbAyBW5NBb+Oi0p/ToS6vvJ82lOfSb+JwbUpxUCXQmfENAiAAAiAAAiAAAmskcDsyiERMEb+VcZL0qZQSEtv2VBA0pYQMWmMlwxQIgAAIgAAIgEAdgWVlkJ7ocb71uunhqbta+ltaVamYEeKSiMJpTlkXLI6BAAiAAAiAAAiAwPoILCuDtOKxkdgnxeSUjyOQuAxiWWektIaxBQIgAAIgAAIgAAK3QeC2ZFDDsh7SPZ4Makh5G4WFTRAAARAAARAAARCwBG5DBtGtLr0YyHoSW54MmpHSy4hdEAABEAABEAABEFgzgVuRQQEtBqrsNM/bOFVvW/RlUGNKLJFec0XDHAiAAAiAAAiAgE/gdmRQEEh9o9cHyfXRQRBMyaCmlJBBfk1hHwRAAARAAARAYM0ElpFBaw4B5kAABEAABEAABEDgPghABt0HdfgEARAAARAAARDYAAKQQRtQCQgBBEAABEAABEDgPghABt0HdfgEARAAARAAARDYAAKQQRtQCQgBBEAABEAABEDgPghABt0HdfgEARAAARAAARDYAAKQQRtQCQgBBEAABEAABEDgPghABt0HdfgEARAAARAAARDYAAKQQRtQCQgBBEAABEAABEDgPghABt0HdfgEARAAARAAARDYAAKQQRtQCQgBBEAABEAABEDgPghABt0HdfgEARAAARAAARDYAAKQQRtQCQgBBEAABEAABEDgPghABt0HdfgEASqiQfgAAB7USURBVBAAARAAARDYAAKQQRtQCQgBBEAABEAABEDgPghABt0HdfgEARAAARAAARDYAAKQQRtQCQgBBEAABEAABEDgPghABt0HdfgEARAAARAAARDYAAKQQRtQCQgBBEAABEAABEDgPghABt0HdfgEARAAARAAARDYAAKQQRtQCQgBBEAABEAABEDgPgg8Whm0vfOivXUfRO/EZ6v9ovPsTjzBCQiAAAiAAAg8XgIPQQZttXufw3A06LVbc1ZE5/MkPxl25kz9EJPtDNPLdLjzEENHzCAAAiAAAiCwKQQ2XQZtvx9nF2l8GIajOCvL9Nsc2uZtXJSTvj8VtBudlxX7lMd9qoTPE3asyg67d1Qzn5Pymnm+zqKXQRDsjnN28CoRIdZH1Po7KS7jnl/M+sQ4CgIgAAIgAAIgME1gs2XQq3Ge25G+FxfVZbw3XQjnCCmJ7HvbOWZ39pMr0hnpFzux1I3yKk8Gr7Ztqrvaan/PKBpeqK3+5KrMot4cd/Rag99VEfcag/2WVlURv208P/MEwZ5lfGbmIAjaX9OS3O/flPB+z/fiy6q6zsLn9xsGvIMACIAACNwPgU2WQbvjiyxi933mGZlbnyfV9WTQPEei5lt+D6QOar2LudK660rYGkxoTigfv5KeO8PTYq4ZL5n8fVJWzUP4BsigfNys0u6ada2/Hk2/lekQMqgWDw6CAAiAwGMnsMEy6H2SH/G5BBIw5e++ncapqZvW8LSqfs+4lRQEz0MxA0PqgTRQMRkwpVVjsvFQa+/NXm0wrf/Z3Z17/fL+Ed2qK6mkpIHyH71amw1RHCRXVXbYNPXVkKn+sCcyvd36PGs6uh+dF2U+Y15rTX6CIHgfZZdl/vNWxdkdFmd9YGAJBEAABJ4mgc2VQQfHefJ3EDzrdF92uzvbnW9pWd64KLg/ua6y0WwhQfeSaAbmaJwWNxqc0SraB0d5/tNXLa3XUbaQ2VdiOdB1GotpqdmhT0czPKmqs3DRXNN2gsDTPd5uXY61HRumFd0/u1VtooKlGbLbdnWHxVlbFcAQCIAACDxRAuuUQR8/fvwjPh8/flwZ5158Mem/iMTMjVw1XMTvbhru34oFLTeuhvk7EYul5zB4QzE6g99FHlsltLAGIvvt6FwU8CycY/m3H9AstUJDfjpUOSih/kwtGCJu9iMEiTJMs2vy48oUe7xp+ZEjOJQy6H+IM7E2q7rKxrI2RTLtQyuUrW4/zgq5hLws0pGadZNlyOKxMCJK8bwX/cpVyuuyOAn3zP3QZ3vhSaHWoV+X2WGXxUwOTTEZpe290STXLMrLdPzB1ElzEXid1BYn2N4bpYVcoH9dZHFfGZWIfo0nlxRP+i0IFLT+4JcKIj/qd7aoIKoSfg1MQNwttkEABEAABJYjsDYZ9PHjx/+wz6pK6HmUiUmO7Z1u92W386x1cFxWZ6G5/bO9sz/4vP/Ce4SeRpEsunGdx9YgpSG2TN7PgNbZe228zUpmlNBSGogs743FIMdK5/rb7vw1CD/v178oiIpstI6bj50iBXCqFFEvTuvWTXuCSskmGpvpQyLACCFuTYzcU7oqMCO6nOIRGuK6LK+y5DCKz0R5rxK65fnqIBwl9HjcVToeheGXXptuDpZVVWZHUTiKkgvaTr9SXaiYqiJ+r9ezv43zIkvGoU4pby8GwfMhrdCuquI8GY/C8a88G/d2/wnDY3JVno7DUTh419YmJcCWsl/Qk4lRnAp1ZbRycxE49ZriKLPFCTkdC0FTyLtyQvRQ6UZdJfDlkbKkxGMZQFVcFuV5Eh0muShR8/J/Hge2QQAEQAAE5iKwNhn0588fpoL+8+fPn7n8NyX6muY/3GfXaYSQEqd1cJSl0cHeX8NJUTm3pdjA32Q42NqLzor8QozEeqE0T9x+N4jiNL+yoz4/W7ct5oR+JYvdC9OGOh+SPM9zZ6G0PhcEwVYvPs+SwzD8mZXXde8LsFhYLrlpaXgSZyolHfDSCEmglZNzmqaOuPDyMmrj5N0wFBqiMgvehfEqH9M7ApTGMkkDWvdd5eNdZei5mBE8j4xmKY8P1Cni07IzhDJlPu4GgVxxVbCJOpXFicooK1EcuWjsKjnQ80m03L4i+ShczC6CjUhKRlscada2NFrOVV0lVAYRTCWKxsOrLiI55dM+FJOhUi8GQUumn730jQeCbRAAARAAgZsIbKgMOjjO43dO7K1RRqPqGzVqijXFcnqADck0TrBdx4DcEY9ijbottlDaS9Vqv+jubA9P7UDmJZjepaXW11VxtG+H5OlEdUfkc2r7z9SwLQvFE7a/Z2Ue98X8Fs2HXU/85d9UZImF5xPbnIYcQWfB8dSMt8tUkjIl79Ko/81EkQ1CJNPHhYbQO1SFdK/NzCE5Z/d+qhtA0w6ketITVMLVVvcgStLzoryS95yk8uqK9VZ184JOVK4M+sp1mywHD4xv01m3CLbcvgwSZp2y0I5opX4w3hSa2rWyT967ZNqUe8U2CIAACIDAEgTWJoPWelNMLAxyS9P/XWkR0NmPxuFrkhykDPRvZUpO48oMGdTq2WXIeqG0mXVw3c0vg1rvxjmtie70j+nR+wWU0M7QrtFWC6X9R/3bJP5y8WZFWbopxTOjyFOnpIxoQOTpHm/XlUFM0LjY2J4zxs/WEM5ZGWR2SDdD7b9/0+1PeYrJoPbwhG6Z5b/G4Wiw/1LMG1Fsykao53VsWE5UdyKDpMfjvi0LlatDd/X8YKaOeAkgg2xFYgsEQAAE1kNgbTIoCIK1LZF+HmXeQPt8mF5X5fGBERm0ZuifuLjOnXXTtPZ5SigoUKSBit9sham4+eKoKIZ0ThmkNZDMuYgSIg2Uq2XClLsdntEswYyVH77mEz7FfZMG5UeD6PQp0hxMSZgye7rH22UyiAZjM5Fjsk9tOEO4I3SmplLcs5/Erai6BeNTMsjNKFWCaDkkmqsqO5xaT+xE5cqgl2IKqbCv62x9mNAUk7qf5fqafzZoyqwl5QcDGWTZYAsEQAAE7obAOmXQ2iKm+whmaWoQbHXD07Jir5OmvzrxTxgextlFGpnVskEQiCFn8mkqkGe7gzgv+cuaKYlYpVGVyd9GXNmM88ig1rtx5v9hr3mUUKv9LkwL503WpIPkQpBztS7EhiK3dqLsukj+9ldtkzIQq2H89M7cWC8+NY+j03BeJ4PEXR57w6VZBsm5FqZTh6fTYssb0WdrCFUR+VEUH0U0lyOenCrzCS2aPozTi2wsnv6bkkH0fgRaTP0zDA+T7LIk1SIDk7NrVVWcxtEoik9oiTQhkg8JlnlyGCdRz0wwidXjrf4vcWeNL5G+ziP1ZsvZReD4veLIKauqEmbD0Tg5LyZfRXrIII4N2yAAAiBwHwQ2UQbRG4O+DNOiyE7S9CTNC3rGuDt9g0NJB/MKZvXj3llb/TLK9KIRmh84Gf5LUn4zFquS6Rh9yiL5x8E/hwzajU5rXzu0vR9nnjVjun/MFr5cF/Ff6sxADsAymOuyPA1fmDxyoXSeJ/bhbXOOHrZngsQcFxs0ykqBIvWDtF6vgSiDnE1RQmKGDDKTKMpgfQDOGH+Dhuh8nqiH3s8jWhj/bD86tc+6FxeJXB01JYMCWmAu65eewA/56p7W63AiF8LL+v0kFWTHPIsu/n6cMqlfK9Dpj/WT7VVVXEzkvVdB84YicPR+cba6gyP9VH9VlZdpKN/p4CAyVcYq1EuAm2KcMrZBAARAYB0ENlAGmYVB252X3a5YFOKU9G2Ynibq1c9inOBzG/SIEH/0xsm5wM4cMmgBaysl3dqLTtJIrIXqfg37/82M0ULv2Y/9s8TYBAEQAAEQAAEQcAlsngzSbwxy42R7JH3KyQc6Ih4fc3XATpTZP9HFci24uTEyqDP8nY7f73Zfdvf+GSZnzpNincOsarqJtmB5kRwEQAAEQAAEniCBzZNB028M8qqFXqWTT8bDweco9d4bJFL2fhY3/ekxz6Kz2/2apCfiFcZlnp6k0axXLDoZb2OnG9Hr/uyHL2/aOkgKtoLqNtzDJgiAAAiAAAg8agIbJ4O6X8dDtSh1Bvjtzsu6t0irHAv+nfYZfjb3VOvguHBeHbm5oSIyEAABEAABENhQAhsng9bDidbTTNxlxusxvCFW/vUlSRf7W/QbEjjCAAEQAAEQAIENIvBIZdAGEUYoIAACIAACIAACG0oAMmhDKwZhgQAIgAAIgAAI3DYByKDbJgz7IAACIAACIAACG0oAMmhDKwZhgQAIgAAIgAAI3DYByKDbJgz7IAACIAACIAACG0oAMmhDKwZhgQAIgAAIgAAI3DYByKDbJgz7IAACIAACIAACG0oAMmhDKwZhgQAIgAAIgAAI3DYByKDbJgz7IAACIAACIAACG0oAMmhDKwZhgQAIgAAIgAAI3DYByKDbJgz7IAACIAACIAACG0oAMmhDKwZhgQAIgAAIgAAI3DYByKDbJgz7IAACIAACIAACG0oAMmhDKwZhgQAIgAAIgAAI3DYByKDbJgz7IAACIAACIAACG0oAMmhDKwZhgQAIgAAIgAAI3DYByKDbJgz7IAACIAACIAACG0oAMmhDKwZhgQAIgAAIgAAI3DYByKDbJgz7IDCDwG50XlbsUx73KfXnCTtWZYfdGSbu+NTg2Am4Oo8ouP8d5yxiVYq7iGw/zp14CglQuH7xPbNBXSWC7F3EBB8gAAIPiABk0GZV1vC0qk6HmxWTjaYXF1VVpfXxPR+mZVUV8b5Nv+qW8vdtQTvP9sfnFKgOtdX9MinEWFn83FvQ1srJv6UikiJ+O8PUfnIlwv3SMom6UV7lyeDVtjlyNxvztcB2eEYBc56tT5OyzKJ3bVuGu4k4CIKtweS6qqoy+dtz2Rr8LouTcO+Zd3x6l9paEfemT9znEWo8DZebG9Z8tebmIeOzm6VOP39KnYO+3wqistnTdpXOvJCpCE0VwE1xF3NuL5lddj+mQ/Z25/SNZA+AwCbKoI3skO6oLpfpzu4otCAIZEfQ0C9LGZSP1ziSKH8ze8+p0reJYVUVJ+PoKKIJANEFV2WeHI7j0d3KoLn73105mfJ7IDVE612c53Fva6pwt39gzhbYkvNV+XhXhrQzTIt0uHP78TV4OBBzVOWRI8I739LidNhpyOIe3sheBzJIVtLc15Fbp3pvqezeheDtatP4fgwENl8GDekH0WID4VIVM3ePs5T1pkx+57vZF9tMGdRUxBWOLyWDRKar5ED7bY3ozkh22NYHFv3ej86LMl9qomD+RvU8FPdvsvB5QBqomAzuSVLM3QLlDFaZvA8C0kD5+N09TAPZunyf0Hwfq/fOh2QRKelfidbyPW41th8/2rlr7Q4Ls5T4qI9vRVPLZPcIe7v1YTYebazHxhw4cZcEIIM07ftpqf7VtYndmSZ0w2yQTba2LaKzsAgm3cxn15cywovgG+TnbtheoFG1Br9pEis/Gt/vtMr8LVDNYJ3ENHN1vxqIqkHLMnFfrPUuLsqFZqf8K/GGmr2b043tx492/lq7m8DJyzLioyG6FU0tk90j7O02xNl0uLEemzLg+J0SWKcM+vjx4x/x+fjx4yqFsC2OWo/91M8J8TT61jJZ0B99zFyW7KRehUOdiP2Imz7fUj6UBgGblJIX1TfpQ90hYkaduStu2Y+f7NiPjFN2Z8yacweKHXe8uLS390apXApDyyXOxArWINh+E04utMOySMd9fbNAWk3Dd+NMrFCprtLodavzIda7mf6hr1P+z2ByKSK/LrPY2OFyQad8HaYqZTH5rB2KYNJLtbK1OI/7Zubj2X50qoIsTqPBDBm01e3HWUErQqqqLNLRHs1F8MZQVdXp/3MQ65UQ22/Ceu/BFDrPoG1MHDmvFlsvvOrdtsTzsu2/xXxGVawiKXgoNlg1DIgKEsDsKfJvj1enQ9kCWVjNm88juQI5G9mabU7ddIaHbOlRWGKdHDvtXAvT5vaPRIv63RezU1n0eqHZKfJTxL1Gd/xqlf2GosoCodZigmRUdcMTSZUj2zy8yrB9UTp0DGpHPBIt+GezYoVihLlxuU3/a4vaG32zlHM7KmLqIfXaI8PKbBj72ri0bA6zmF1TM3pm/UNNtHF2zU07NW5kM5MZnGjVIfoZ5vYiqhvntaDHEWGVBS5+wtmKJpOqefCD/rjAYsPm3RBYmwz6+PHjf9hnFSWk+gkFgHqTpoYiWpy+0oJefCrvXAxT0y5FY3Ubrkkv+imTUl+Nyu2Mi01eAKzzcgJmHp3j39K6UjhJVNdvOyJRPh2hk5R5cRtKe3giFwNnyTgMx5P8nBbr0I/jqqquizSOwsM4FUqjiHtioBBeqrIs8uQwSuSDS0VRXBfpOByfiKRXiVhzYVIWWRyRceEq/yHXhwieCotOeSWM/JIJ6Y5PYIIp0vEoDMcilktZcWp+ocwn45G2Xl/7neFpWVVldhSFoyi5oO30azt4dRCOEnpk6UoY/+f/9r6EY0pZ5cdhOBr0xC0nKlKN9zp0nsEvvalba24rEvVim4bXqNyq8ve2Bqlc5/veP8P2O3uvp0Kwp2e3fD1CU1TOVWACltU29yL9vbHQuNn3hpCedfY/h4O/Os3LvGfRk0OFjk2Epq8FW2K+JS/M6zxfZnZKFV27EyJMD1ruxIaJhDZMeqPbKKKaZmA6MeVI9wZEwBihIpsdWRwTAy+pWKVnEi7Zb/DGSdtmLbDjiXZYyhmVIgqm25jS1rqZUVnktgfN7pJlXb+zTM3omYMZ7V9H4haOOxXFNMlsYCKHu2uLo1dMqsjd9mz6fAZQZTCVZ9K4gWHvLgmsTQb9+fOHqaD//PnzZ+liuC2OGpbuMjyTM06ZlMyY6FYcU7x18m155ZuWSsaYL9/OkCaO2HNA5tIyGyaaqQ0WnjhHWbhfG1WjF8emXCFx6a2ulc/1lMnf+vexerImHdIiXIqhqsrJB3n2QD61pMc2eTYfvzQpq8lnbeeVWNmbj8Xz3KILUMErm9pji8pVVZNPQRCIYK4nA73+VyxuFc/4yOmQ80jPLXSic/EDanplmCimWZ4byGmJ80iMxjwMYiND0fXe7L0enap6p1IYcTLO60u6M0ds9bE8tZtbe9FZkcvpOr1QmidsvxtEcZpfed54Em+bhea3WHvKbuncczRambTTP87zC/GYvK0JbUWI3ew8iUZhfFZWDfenpr3zI83XgvXiblFuWge2zOyUyKuHYWHWXvLDUxe7qVZnSLZX6DRDdsR3ZIvsDK4iBOPILafXypQMMq3OES42KmnDRsKN07bTiTkOWcrmSrG4VF5eHLZty+veOLOB8c5W2mLZSazwkk4nVu6ZH56dF4yOG93m6ROWnbI4u03twUnEHTGAqrKclsaTYvseCDxkGeQ3Yo5PjIXUJdJHXTXTFwM/4rbUWRcbz6V/+SlP5ku2ckop/DORxKP0rq6aK8REpUwZB2Jj6lrq/qBhaWo5sK8MlCP2+8zM1sqQqiqLxMzNzJRWY4hH6LkX6hCYTa5FnKox5Um/BXs/KU820hpLh6IVjCUnU5q8akNVMw+DsqhQlJZq9N6AjgB4i41sHGJG3emTVXvQfaupPp6nZrszPC3SUbfFFkp7qVrtF92dbb//9RLRrlPAhpZvu+tpg2w0qrGuD7V6tCBof9usyPFnsNrhWZnHfSFMhbD+XfPWnmnvYh5F0fMjuRmmcHQ9qfGk427+tkx0GnNEtiCvuckgmciwwzOl9xute5a3GeNmqs9xpmF0VPLbZpL7jaxm9BucJ992PdEeOzvTkW720gLvJ/k2NVEluagYuhOzlilxsylLUhXd/Z08T/vXJaRy+R9dNR5hvkvbUx8KuKY9S1cMIB1QldKsO3WA+L4bAmuTQfdwU2z6ahHMZCPV3RBrvs6lKJLyI15LnXGx8VzesFdbaepiq230LDyR1/YF0pSJqqGwnkNZdq4kpNXpgZwczZJBthtqThkEQZ/e16Iez+FyQVWCecOQ2ictIpMl/ZfdLvvXeebpFQqc5XIKqop56Fjo/lu+sYaHMW3kBu9T6EzA9U+K1XR8vKZM9TnheztSUsgblHqhtH4O3Uta446lcHHR3i3JIP4guveovw5HzLpdqHVp1IQu4+l3FdQUh9FrvBa0D//7pZibPAutjvZTzNhnuFQqc4Q2dH/iWzBFGJ6aNHXpbX9izPpubk0G2WvZiZ43Tr7tJBI77GxjpbCKUwboiO70+LaVCw4oa3m2KUtS+qErWtYOmdPbsvNoaP+6hL4pfZy+vWriu07YPI9pDPwgbTOA9hQdNJ2wPYytuyewNhkUBMH6l0gTD9vKp+jUnuLt1W3N7qXonptqqV7Dpby6m/Pt1IbhBetFZc76x21fIJPYMObxEgSfxNuH7X0laaUrxge29narP7mqKnVnimJgMzferlwkIbszecreXGvJ21hn4dTdKN+I2icZNBWMgfFV9Av2lpAaYWtGIFnMs1DfPjMmalQLcz3Tez26GoPcGRnXvx/lceeIrT6eiW+TBip+D2xB9IPfzgtwdI7GfpYSOJ6dXb/F2pTU3pz46ZT5ga7dOt+kgS7G9p1GzTNYOhtN0nhv9JGnbBw6KT/SfC3o1O53+5BWbOc/lnvjNvcs7DJofiTc79u4IIDDlE1gTKdnR3xHdp9ai9YNwgWdYmaZW5tJHmT2xQHb8Jr7DZtmqvdjnmiTpWx0xHtImZ0Xh8FUBou4RwetRLOWZ5tiwZApm9hjwnY97zI8ldcBbs44lw8dZdbkqmo9icWyuIn4CS9me8oxaw9j624JrFMGrStyt2m4e64POmc7DrVE2l5OsvGafl5cMLZbEbt2CPAvFeo+9Fnhp1EGuaspyWkqlwoNT81F3lgKHi0NuWydIJWVXT90ivUaxouLREmHqkjjw5BWk8gl0p8mtE7YXSKdR3JpsyydEyp3JPxyGaTsRHEqHtQyqoiIaWSeTdFBaIDtr/S6aRXMKBwfZcVvMW201RdRVsVZHIkl0uUVJayRQUEvFotzxWLqkBZ9X2RjdeeRh0FsVCh6gVGj96AeXRDIxVJlfhTFR9HUyyGFO9MnikZlA2bV51aT2Hu2O4jz0p8mUe70sion30wZ5DQeWWrVgP22TSfZKb2tWTXKoK12b5QW16lZ1yWCa8slXNmh1XI86M5hVl0mB/oeKz+lpgYb6M24Flwjck+uPyvid3Un7TEqu60g9zhrbIKfvv7FZchyvY1TOznYIx0Upw40r2+hZmCGWwZfeGf7rlNhhF+JNtipjmIGq8Z+gzdOvs3dyG12dm5H4rowpa5pgUV6KgSkdsctuzG7psQPY10zgpjuIrgFeYI1csNf+6NvFzhRdbpB7cWXQc3twe0NzPJnt/jNXnhs2L47Apsvg6QUoNnDus5LDXLyTq1utfKykROOQ7fHl89eyuS295e8xbXHpAZd/PJTxG/JpgrAbdNuXpFed+vaIB3UsU1VrersVAJ+JVNS1gEpkaRCav7JvrUX/srVk+TXZXEs12cEnQ9j85R4VeQT+YQ5+ZA9hnP9885XlILLoDSyz9LnyZeuvgchsKtyeja1D6VFWt0vSW7ur5dF+l2pi5Z9wJ4exe/LeSqtYBx24tH6Uj4wf10WF0lfDbQ8DFY8a6TRe9CE7vNE8ZR/P8uJQ08XqXpxe1u3+my+l1FGAk9/Tob/kufejHNZInmmLJJ/bCbZABobEiWc2fLtAjWqHWtHt0DZSv0WqPz3E1NfFd3h0pNVA6lcVUnKMv3+gkcsXoed2Bci8HNq28bMtAKd8yNpghnsjc9L1RJIXpfl+Xj6BpzyRoU1TZ1HI5lQd6E+FpBIZnsD1kWIM6Ktu/WuZym0Le7RhS8vP+tLGJPZirjXWGSzvmSFfoMb59ucitxmZ2dXiugrZPTpkPeTfLsBmme50ZTqFTUj3jPP2/55CRlwp5f2qsnbtaOSiIPXL2/P9rguDh3R25TV1jwPCtt3S2ATZdBtEZi6FG/LEeyCwO0QmD0bdDs+l7faeh2lJ9EePRLYHY76Suotb28dOb+50zbrMDk1Qq7DKGyAAAjcFQHIoLsiDT8gsDKBhySDdoaT0/H+/3a7L/cOvibZr6We31qZmGegFxe1k8peskV2oYIWoYW0ILB5BCCDNq9OEBEITBHofk3SE/HW7DJPT9LIf0B9KsM9H+hGF/K2hfqf/y36ew5tve7ZDaP1GoY1EACBuyEAGXQ3nOEFBEDgkRGQq0CmVgU9slKiOCDw2Ak8JRn02OsS5QMBEAABEAABEFiIAGTQQriQGARAAARAAARA4PEQgAx6PHWJkoAACIAACIAACCxEADJoIVxIDAIgAAIgAAIg8HgIQAY9nrpESUAABEAABEAABBYiABm0EC4kBgEQAAEQAAEQeDwEIIMeT12iJCAAAiAAAiAAAgsRgAxaCBcSgwAIgAAIgAAIPB4CkEGPpy5REhAAARAAARAAgYUIQAYthAuJQQAEQAAEQAAEHg8ByKDHU5coCQiAAAiAAAiAwEIEIIMWwoXEIAACIAACIAACj4cAZNDjqUuUBARAAARAAARAYCEC/x9B5bcsMp0cbwAAAABJRU5ErkJggg==)"
      ],
      "metadata": {
        "id": "0RNQYiZyg2fn"
      }
    },
    {
      "cell_type": "markdown",
      "source": [
        "15.  How can the interpretation of intercept differ between Simple and Multiple Linear Regression?\n",
        "\n",
        "\n",
        "  Simple Linear Regression\n",
        "\n",
        "  Formula:\n",
        "  Y=β\n",
        "0\n",
        "​\n",
        " +β\n",
        "1\n",
        "​\n",
        " X+ε\n",
        "\n",
        " Intercept\n",
        "𝛽\n",
        "0\n",
        "β\n",
        "0\n",
        "​\n",
        " : The expected value of\n",
        "𝑌\n",
        "Y when\n",
        "𝑋\n",
        "=\n",
        "0\n",
        "X=0\n",
        "\n",
        "Interpretation is usually straightforward\n",
        "\n",
        "\n",
        "  Multiple Linear Regression\n",
        "\n",
        "  Formula:\n",
        "\n",
        "𝑌\n",
        "=\n",
        "𝛽\n",
        "0\n",
        "+\n",
        "𝛽\n",
        "1\n",
        "𝑋\n",
        "1\n",
        "+\n",
        "𝛽\n",
        "2\n",
        "𝑋\n",
        "2\n",
        "+\n",
        "⋯\n",
        "+\n",
        "𝛽\n",
        "𝑛\n",
        "𝑋\n",
        "𝑛\n",
        "+\n",
        "𝜀\n",
        "Y=β\n",
        "0\n",
        "​\n",
        " +β\n",
        "1\n",
        "​\n",
        " X\n",
        "1\n",
        "​\n",
        " +β\n",
        "2\n",
        "​\n",
        " X\n",
        "2\n",
        "​\n",
        " +⋯+β\n",
        "n\n",
        "​\n",
        " X\n",
        "n\n",
        "​\n",
        " +ε\n",
        "\n",
        "\n",
        "  Intercept\n",
        "𝛽\n",
        "0\n",
        "β\n",
        "0\n",
        "​\n",
        " : The expected value of\n",
        "𝑌\n",
        "Y when all predictors\n",
        "𝑋\n",
        "1\n",
        ",\n",
        "𝑋\n",
        "2\n",
        ",\n",
        ".\n",
        ".\n",
        ".\n",
        ",\n",
        "𝑋\n",
        "𝑛\n",
        "X\n",
        "1\n",
        "​\n",
        " ,X\n",
        "2\n",
        "​\n",
        " ,...,X\n",
        "n\n",
        "​\n",
        "  = 0\n",
        "\n",
        "Interpretation becomes less intuitive, especially when:\n",
        "\n",
        "Some predictors can never be 0 (e.g., age, income)\n",
        "\n",
        "0 is outside the range of your data"
      ],
      "metadata": {
        "id": "MDHiRNUHiqwg"
      }
    },
    {
      "cell_type": "markdown",
      "source": [
        "16. What is the significance of the slope in regression analysis, and how does it affect predictions?\n",
        "\n",
        "   How the Slope Affects Predictions\n",
        "A larger absolute value of the slope = stronger impact on predictions\n",
        "\n",
        "A positive slope: as\n",
        "𝑋\n",
        "X increases,\n",
        "𝑌\n",
        "Y increases\n",
        "\n",
        "A negative slope: as\n",
        "𝑋\n",
        "X increases,\n",
        "𝑌\n",
        "Y decreases\n",
        "\n",
        "   Example:\n",
        "If slope = 0, then changes in\n",
        "𝑋\n",
        "X don’t affect\n",
        "𝑌\n",
        "Y\n"
      ],
      "metadata": {
        "id": "Zb_sLOvAj-s7"
      }
    },
    {
      "cell_type": "markdown",
      "source": [
        "17. How does the intercept in a regression model provide context for the relationship between variables?\n",
        "\n",
        "    The intercept in a regression model — denoted as\n",
        "𝛽\n",
        "0\n",
        "β\n",
        "0\n",
        "​\n",
        "  — is the predicted value of the dependent variable (Y) when all independent variables (X) are zero.\n",
        "\n",
        "Even if it's not always practically meaningful, the intercept plays an important role in giving context to the model.\n",
        "\n",
        "    1. Defines the Baseline Level of Y\n",
        "    2. Makes Other Coefficients Interpretable\n",
        "    3. Indicates Model Fit in Some Scenarios"
      ],
      "metadata": {
        "id": "ms2aioH-jey9"
      }
    },
    {
      "cell_type": "markdown",
      "source": [
        "18. What are the limitations of using R² as a sole measure of model performance?\n",
        "\n",
        "    Limitations:\n",
        "\n",
        "      1. High\n",
        "𝑅\n",
        "2\n",
        "R\n",
        "2\n",
        "  ≠ Good Model\n",
        "      2. Does Not Indicate Causation\n",
        "      3. Sensitive to Outliers\n",
        "      4. Does Not Reflect Model Bias\n",
        "      5. Cannot Compare Across Different Dependent Variables"
      ],
      "metadata": {
        "id": "IIUd8O9Lj3_w"
      }
    },
    {
      "cell_type": "markdown",
      "source": [
        "19.  How would you interpret a large standard error for a regression coefficient?\n",
        "\n",
        "    1. Check for multicollinearity (use Variance Inflation Factor)\n",
        "\n",
        "    2. Increase sample size if possible\n",
        "\n",
        "    3. Remove or combine redundant variables\n",
        "\n",
        "    4. Use regularization (e.g., Ridge or Lasso) if the model is unstable\n",
        "\n"
      ],
      "metadata": {
        "id": "NCxyAUP_lA2C"
      }
    },
    {
      "cell_type": "markdown",
      "source": [
        "20. How can heteroscedasticity be identified in residual plots, and why is it important to address it?\n",
        "\n",
        "    Heteroscedasticity occurs when the variance of the residuals (errors) is not constant across all levels of the independent variables.\n",
        "\n",
        "    In other words, as the predicted values increase, the spread of the residuals changes (gets larger or smaller), violating a key assumption of linear regression.\n",
        "\n",
        "     Signs of Heteroscedasticity:\n",
        "    1. Funnel shape (residuals spread out as predictions increase or decrease)\n",
        "\n",
        "    2. Patterned spread (residuals widen or narrow in a curved or wave-like pattern)\n",
        "\n",
        "    3. Non-random dispersion (clusters, trends, or non-constant width)\n",
        "\n"
      ],
      "metadata": {
        "id": "lh-QrYRClSo4"
      }
    },
    {
      "cell_type": "markdown",
      "source": [
        "21. What does it mean if a Multiple Linear Regression model has a high R² but low adjusted R²?\n",
        "\n",
        "    High\n",
        "𝑅\n",
        "2\n",
        "R\n",
        "2\n",
        "  but Low Adjusted\n",
        "𝑅\n",
        "2\n",
        "R\n",
        "2\n",
        "  indicates:\n",
        "  1. Overfitting:\n",
        "\n",
        "      - The model includes many predictors that don’t truly improve predictive power.\n",
        "\n",
        "      - These extra variables inflate\n",
        "        𝑅\n",
        "        2\n",
        "        R\n",
        "        2\n",
        "          artificially.\n",
        "\n",
        "  2. Irrelevant or redundant variables:\n",
        "\n",
        "      - Some predictors may be not significant or highly correlated (multicollinearity).\n",
        "\n",
        "      - Adding these doesn’t help explain variation meaningfully.\n",
        "\n",
        "  3. Poor generalization:\n",
        "\n",
        "      The model may fit the training data well but performs poorly on new data."
      ],
      "metadata": {
        "id": "4Adob91ElpQs"
      }
    },
    {
      "cell_type": "markdown",
      "source": [
        "22. Why is it important to scale variables in Multiple Linear Regression?\n",
        "\n",
        "      1. To Ensure Comparable Magnitudes\n",
        "      2. Improves Numerical Stability\n",
        "      3. Speeds up and Improves Optimization\n",
        "      4. Important for Regularization Methods"
      ],
      "metadata": {
        "id": "7JW92rFNmIYq"
      }
    },
    {
      "cell_type": "markdown",
      "source": [
        "23. What is polynomial regression?\n",
        "\n",
        "    Polynomial Regression is an extension of linear regression where the relationship between the independent variable\n",
        "𝑋\n",
        "X and the dependent variable\n",
        "𝑌\n",
        "Y is modeled as an\n",
        "𝑛\n",
        "n-th degree polynomial, instead of a straight line.\n",
        "\n",
        "\n",
        "![image.png](data:image/png;base64,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)\n",
        "\n",
        "![image.png](data:image/png;base64,iVBORw0KGgoAAAANSUhEUgAAAcgAAAAhCAIAAADS/6xDAAANJUlEQVR4Ae1cTWvjOhe+f0V/xOQHhG7enaGLQBaFC9cQKOHCEAaGULiELoYwMJiBYi4UUwh4oOBFwYuCN4O7KO4iKIvgLgpaFLwoeBHwy5HtRHb8ISd27qRVKDO2bEtHzzl+JJ1z5D+Q+AkEBAICAYFAowj80WhtojKBQAECJ73JlaH90+sWXD+mYuiLNvlTlo5JaCHrQREQxHpQuD9mY9KF7T075sywl0EYYL1/xDBI3xxvbk4/T/QnPyT2uHPEfRGit4eAINb2sBU1RwjIxjIgtirD2dR5C8Mn9Xih0Rdh+OZMEEJfbD8M8fXxdkVI3iICglhbBFdUTRGQjWUYvpgKPQFierVHRwtN79K0ZiNwAnx1gjBwLo+2J7+d4N3eIPIUSfKfytmRO1reKbF25PGVYcy08X+knu75VJ8Z+rfh8bgUJflCM2aGdtEqZDBjDX7BhK/FX9vaP+kpg6n9GpL78Qdys7aLqqw/YOfJDxa2PXetmen6Ab6mi5wWDaXFqhsj1sk9CVbh5uc7m/XemeGtL60C53uL/UEIdS8t7wXbt4Yxs70gwDe9dtvL1N5RtAdCHi1jZpiPfG64v00v2CAXJhBpT2yhZw4yLTV3ejKxlgTbpkHdoMFcr4ZsJ5l7t1746kxPm5N8q6ZdtH/lpEx3FUE9tAiD/xtjz+dTY2baS4LNyfEMnFtI1SnYBVWEEL+RDCzXHit3JPRjt7X6BId1ZPy97m2MWGm3pIgLgodpppfSlRv42Pjcvh2eW4QJKYxt/7ALT0l98hkq1zG/G+7SAXZdYW0TD1HMl5D80oYnGTibPR1aL8S+SOZe4Dr07c98TdSRWbqwCXHUViNXe2hf/ukBj7Juio7qvgWeOZY3GmFgOTW9MCR3Q6bonR7ugSogwmMknW63IxnLkNxFHiN4cfFNYpNHiGuzxBo5nhLv/hqOvo79w8SCh9aLZzKvLuhn94FPx6SeN1D64ZKH6cYcOoYXhvhmDUT5QTxFcq+iCqSxDWPEprbyp+OrtWUe3hHvlpmhXlDIvnA1hhCvzNInE8/NETCUos/U/3FUP7onNUND+2m/o7mwriLWeSRcT1+wY2RUODbm2LmK4IJRM1zoHF1B+pzwjlU81e1xz6FRBVE5jUR1V4Hzlfbt3CKhZ5xKsswzFatt83vgx/to08SKJhD2DROAEEJ91SHMhIhXsJ3uu3RIyn8HGg2e1JrctG5ax/VIWTaWnsGsc6Url3lR19UWHsSTpqUhI2BV/0ljCK/wqfSFujJPnBca405qoZC5au4cLbmH/Z9L5r7uLqzJ34oyGE2vHe9x4yViq8ocj22fe0yij+6t/ckvWDNQFzCwKrnbHtWATINIfjpqcvqL9YVv845VGRgaPj08qgghLiO5sP2VG1kGzIcWunRuuRbPgqCuzTcMaW51jRMriq0z8gZ0xvbr4byc0wcCIx7EFhSl3+3d4GCvrMmaCjs1vWdTRhDTVAZn8snYfoXpcg1aTyZNjoX9BYejM0elNWX+6hDQVLc3UJRBr9vXAbJaXulqmcGhwf78e66kgLoU0ID2YaIE3hi7cK0gje898mjpV5o553OgUx0dL7E2gCpCqNpIEDhYYUoBv+EdCRa2O+dME65p8yfD6cx25xg/2sZXpcbrmfO6FRY1T6yJS8VVEQz73i3NTSkUoMELI/vFVc/A85X8/I3rcJd2airsGpM7ZfrAxKEWet24Zvx44sKvL3U9mUf3xP1xZj4ngIU1RwIq394y5/eyJrE2on05hmJplKwVun2l7s6royXWRlAF/VYbyUmvx8QSun3+TXo1bL535fpB4D9jPMf42Q/D0Ls9y7e//UpbIFYEE3lwVr3UcBGe/cTBW1D1h40SEE5Nb2lICHX7ijJQeicS6DIZAyFboD/RrqfDGtlENRRGTYfYFwh15LOBovwpS33Ty+Y59kafKphW+hccd3EK+i6qrSWzbD57Rmczx5cgN3PjzZDk4fRan/5dAdneMuf3sx6x8mj/alKZHTmyqO0yZpMvXM3SYyXWKlT5YWjJSKgA3DZ/anjEnqTo+yw/MsnfsYI72yDWhFlLh/0CefYophPG1PM3OAw9kzo9ezfYX5qTwcRcbkck4ociRgY3Qvxner6jbk6hvPjNpGN7qnkYYKIECflCM21M3ioCadIn0/MJoa92EsJK1bh9sp/MOn6xoihsUjP4EL1bYP/eDSZzy5iZLglL9m7uIHPSVvr/aEBi0FYffO92rYvooHgWU6Z9afrLw+Z09I/u+mXJp73vDiGEpEJYaSE5zyJnFNMXc+k739N9yf/UQE+fB8GbqzOe+qhN6ZvjBwGxtjOQhsYi/xF4sEVUObGA2xozEtrm7jb/2SZzTZbP6AtebEs1elZ4ayvEGk373R+FrbZxYfpAJ4xM1dLMg6XtZ4RODS9hWHRqeiuXSWlaPzAyHugCYb7+lwQr39uc0nKzILk9GdvX1aFofJlD1FiSz5R+V1+UEivNnTD+khhPP1NZ/uF+Mn91SCZVkAZkqA904vg+/klf4zivKM3AkTy7yJzfk/99t2B1xvx5r2HwkirBc0cvSOYt0z6iESca1aSLKZwbyKfZYDCdYUJY+aJWlo5mDtsRPKdj6jLTl1xLopkGYeBu5XqP7ul4m2xgY2SIH8ndA9YmqowI5YfNGQltZw+b70wdiiL1fJEWE8MRaoNYFRoCoGvMcsTZq1uDfDJtZMf5knn79oQRqU9hGMUZryGdNHmdwBD5SJ97iYEQ2p4xDQCGJC8PulpGrB2aWxUlkyae/iTvh4Wp8riGzNTBmq7whxvG4Exguh2H7ykd0REidXdjMqdqXZ/UcQWUah/1JqZlfIIoBQz50U7/dTPRAZsRGIewckffzGO8p/yugO5nTc+NqHSU6bU2Ypax67YLH1nfwRw0hypMF+IFHLy8BRPAlo2E9ozT5mV97tmXPPlbDF67HrZArHSCE5LMGrNCQOmTasyMqj9tvLVEius9Nb1MatSpjlewEpcQDTimidWb8QQDORUGIkwfgkydlI1SSbWFxArG57txdiTUtsekiV9m2Xz2wSm8+cnRF0ammVwrqlDvZ9o73KTMGwnYoxoUUKr9qE5YP36z/VVe5h+wKrHWWyQQ/bhBGGa7zApX85ifWGtWXPv2xlD9YuFHxwuIc+/Cnj3bC14zyx+E2jcS2n8+mx9YhMZgakO20wPNE6sEns3SNe9OglY8BHNSJgegoxiLYO0ZTC8AYcaaIeGCyvkUBg+PbBIGjE+5e2n7q2zeUi6xds81+yXIZiBBEAlCWFmOKxCUKeaXGQYeJhtMUmY4yOEdiAEGS4PNJ2xaZkZ85rAGBZRqP6py+M0wbm3vBZupOYskXxjYD/G/qYFWvqWpJc9mSW4AI2n14VESaymq6qOrd1R3FXozChKsz9aLQgDkMEZCoeez+YFFUsk2YPC4nZQA1KwrYHTnBUyuUfDmWZw7I6sts+IOyLb7V8d+7BIlvu/ZqpLMvCBFbqN1INbM7LKgdj6FIQR+22dTvSc+oX60Zz94zdm/myFW5dZjt6jjm3g70gik3fyCVye7QbhAXFrMLTNksGr63I9TT4jvP9vqXyl+iUJY/jLaMQXVtyNzfn/4ibVc+2ztlDHjvVXqw8bfFq58+5/4Ru2RMeJVECzKUlHYykuOj5FYy1HtnnQRk9IP06lktnJII6GYc9q8NL4n4SpJPQrCgDHsEt3tdqn5Getucuz31NrFRhPdt+OtbftYEwcrBKkg0yu/Nxlizb9p31JOI0NrByuNseY7r3vfHfxLpROSiTHjyurfV3zmeW5irdL+FwMvHC3a6EyXU/U2dDEi7Xx4hMRahWrkYYMdMRCd1Z7ojrUTuaXspVLkeW2ezqPhs3PGTJ+et+tsfRfEmhORTyuCzQoYWCQ/KyD9CJyNjbvo88zbl1Il2yHp1OXk5CDEyilzksGayLb9P3z2/1EfQc7QRLvDOP46xvaNbZXIPyyDZxtopfaBTOM4O00U+Q8+ojr+aalF4YG28MuvtzFUEfPNlI4O89Uvkvbg5OXb5EvSXCmnzTfXIEdN74JYkwljSX+HP73KPNaSx0svrcf2wruUawfPPX8VhgHBc2z+919H3s5gzQivusyCOOT/RlemmgOcVmq/M7afiWvp2pWJS/NYDyDs0TRRiSqi30yJLLmjuhDFwu5NU07po8GpSND3QKzKtaXHXyQq6iaUd/uj6bfqvTdlVeRfm5h3zBet8u/5zUoHunXDhqN+M/HqiMOn/W5vMNE4dl7Vafk938uBqiT3mS15HbnHnL1naPj69h6Ila+n4i6BgEBAIHAgBASxHgho0YxAQCDwcRAQxPpxdC16KhAQCBwIAUGsBwJaNCMQEAh8HAQEsX4cXYueCgQEAgdCQBDrgYAWzQgEBAIfBwFBrB9H16KnAgGBwIEQEMR6IKBFMwIBgcDHQUAQ68fRteipQEAgcCAEBLEeCGjRjEBAIPBxEPg/56dw8feBPqAAAAAASUVORK5CYII=)"
      ],
      "metadata": {
        "id": "PfFbYhNUmZ-e"
      }
    },
    {
      "cell_type": "markdown",
      "source": [
        "24. How does polynomial regression differ from linear regression?\n",
        "\n",
        "    Linear Regression:\n",
        "\n",
        "    Models a linear (straight-line) relationship between\n",
        "𝑋\n",
        "X and\n",
        "𝑌\n",
        "Y\n",
        "![image.png](data:image/png;base64,iVBORw0KGgoAAAANSUhEUgAAAMkAAAAaCAIAAACSDu/TAAAE6klEQVRoBe1aMYvjOBjdv+I/YvIDwhZXGqYIpBjYwhAYwsESAotZOEyKIQwsaRZzMIhAwAsHLgZcDKgJnuLwFEEpglwMqAioMKgI6JCdOE42juWMvefcOYSJomi+9/l9z9Kz7A9K82oYqIaBD9WEbaI2DCiNthoRVMVAo62qmG3iNtpqNFAVA422qmK2idtoq9FAVQxIaOtmAhcIJe850HfJmE7S7zt/7HpL/OxO4JLgJSJrgmYDtcTIJ0MVgetPvT0nC+SMFEXRwTwhBHmPCU8nwf77nRLaamm3PX08p5xz9mLp3XbCSrsLfMbIHJi9W62VdJfU6AIUQPNjFK1lY07cXkmRT4YpCKdqt3rP8kPOOYWj+PBVbegSzvDcHg/1Tpz5Saz/R6eEtmIiei7hnBO3v+dFNSBG086+o8yWBhbYvUsiAsQp/JJ8lWwM3Fd3IDX2Qrh+xAr+oUUgHbCg8oSAV9+Syu1aB0lrS9GcIBLXrt6dKcLQqGqdunPxq7UPfu+xjW8VnhoNuISGTGkuhrux8faU60xeip1pYImATG5XO0ZeW4r2Q9BIo2KpXyFegIqmLOFcnpB3r2q/j8HMMntjuGby80GqFrLaegecZq+EWcArQgqeabLa+tgfO7G38+HjYO9IUsdZz2YBbSnxORp6469QEJk7i0RGTe/p2e9OBlOqvUTg1kYh4xtGKeMr+yIdS2rrXXDqd59zzlf2fpaVK7WUtu5svCa+a9sz23Z9ElLvQS56DUYV0ZaigqWgkYcIdCVyvzGsWURK5t/J4LRAJ/7SiS1MBGNAyneeRgJ3P0RSW++C60wR45wXX7JltAUW2JGhen/INWoV0pYSWVfmfyt6ihY84HsPP6ctuLB627X4s4PefNf1ycI5ocse8JK9EtHANKT4oMed/PZTMtlw7a5uPkJMM42R8AaBaz2L65w89ZvOQSaIhIwc9Hj28Dg34xnjvz30RtnaB5VeJh8jl/C9kLaieWvjT0rAPRcicj/pAWMv5FSore8SEl88GpASJ3cDSWreyoZT+g+W+c2j/LS21M8ODiJvsHf06bRz2vnzVsuAAYYzYP/lOLOsOT4H5V/8uZC2RI15kF6tzmYeGSYWssw3ReD25wiaE2A7vTk08hhn3khRbhyclHmKJDKR0VY2XJzaF3haW12A1ok32Dp6kaT0K1db+hP2v1e8REhne8HAItoSLMfzxwVA8v8y8TepZbdlwLVYEAXH6TJPxYZX3v6CjLay4eKU06C7g2jfAZ8eOKGto0/vm+wGZ33masuAOG0/2iPo/pkVrI79ctoaujhkbBMZecZY6FW46Xfv4RfXexMXRw4Ud3v85G5PusxlaesMXFyvNKiiDJ4wE9Y9egVOvJOszdCWHM5ZyPC2O6feudpSugCFjK0xWiBCGQ3c/GvzHMxf+rOctn5hSjv3o2qf9PT9JZHCMLU8TREnbp7hyp+3zsHFR32orRKZyNeWoigtrf8A7JllftKubnWsm7Y0Z3XaOEdFNb1we1dRfyJsbuZVWjNG5+9wn4eLwlemrf7IvGjTLu+ga/N73bR1tNV0zJO40fRiDYaWFyQ++nhMke85cOJBjxXlXGwWNM81FCFWjK2ZtlpaJ2/ujx5AKOmxCwm4ooQ24xMGaqatJK+mcf0MNNq6/hrW9QgabdW1Mtef1z9IdCV1vHDqIAAAAABJRU5ErkJggg==)\n",
        "\n",
        "      2. Polynomial Regression:\n",
        "\n",
        "      \tModels a non-linear (curved) relationship by including powers of\n",
        "𝑋\n",
        "X (e.g.,\n",
        "𝑋\n",
        "2\n",
        ",\n",
        "𝑋\n",
        "3\n",
        "X\n",
        "2\n",
        " ,X\n",
        "3\n",
        " , etc.)\n",
        "\n",
        "  ![image.png](data:image/png;base64,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)"
      ],
      "metadata": {
        "id": "DZrjkY_SmyYK"
      }
    },
    {
      "cell_type": "markdown",
      "source": [
        "25. When is polynomial regression used?\n",
        "\n",
        "    Polynomial regression is used when the relationship between the independent variable(s) and the dependent variable is non-linear but can still be modeled as a polynomial function of the predictor(s). Here are common scenarios:\n",
        "\n",
        "     1. Non-linear Patterns in Data\n",
        "     2. Modeling Complex Relationships\n",
        "     3. Engineering and Natural Phenomena\n"
      ],
      "metadata": {
        "id": "mebzcD97nL1B"
      }
    },
    {
      "cell_type": "markdown",
      "source": [
        "26. What is the general equation for polynomial regression?\n",
        "\n",
        "    The general equation for polynomial regression of degree\n",
        "𝑛\n",
        "n is:\n",
        "\n",
        "𝑌\n",
        "=\n",
        "𝛽\n",
        "0\n",
        "+\n",
        "𝛽\n",
        "1\n",
        "𝑋\n",
        "+\n",
        "𝛽\n",
        "2\n",
        "𝑋\n",
        "2\n",
        "+\n",
        "𝛽\n",
        "3\n",
        "𝑋\n",
        "3\n",
        "+\n",
        "⋯\n",
        "+\n",
        "𝛽\n",
        "𝑛\n",
        "𝑋\n",
        "𝑛\n",
        "+\n",
        "𝜀\n",
        "Y=β\n",
        "0\n",
        "​\n",
        " +β\n",
        "1\n",
        "​\n",
        " X+β\n",
        "2\n",
        "​\n",
        " X\n",
        "2\n",
        " +β\n",
        "3\n",
        "​\n",
        " X\n",
        "3\n",
        " +⋯+β\n",
        "n\n",
        "​\n",
        " X\n",
        "n\n",
        " +ε\n",
        "\n",
        " Explanation:\n",
        "𝑌\n",
        "Y = dependent variable (response)\n",
        "\n",
        "𝑋\n",
        "X = independent variable (predictor)\n",
        "\n",
        "𝛽\n",
        "0\n",
        "β\n",
        "0\n",
        "​\n",
        "  = intercept (constant term)\n",
        "\n",
        "𝛽\n",
        "1\n",
        ",\n",
        "𝛽\n",
        "2\n",
        ",\n",
        "…\n",
        ",\n",
        "𝛽\n",
        "𝑛\n",
        "β\n",
        "1\n",
        "​\n",
        " ,β\n",
        "2\n",
        "​\n",
        " ,…,β\n",
        "n\n",
        "​\n",
        "  = regression coefficients for each power of\n",
        "𝑋\n",
        "X\n",
        "\n",
        "𝑋\n",
        "2\n",
        ",\n",
        "𝑋\n",
        "3\n",
        ",\n",
        "…\n",
        ",\n",
        "𝑋\n",
        "𝑛\n",
        "X\n",
        "2\n",
        " ,X\n",
        "3\n",
        " ,…,X\n",
        "n\n",
        "  = polynomial terms (powers of\n",
        "𝑋\n",
        "X)\n",
        "\n",
        "𝜀\n",
        "ε = error term (random noise)\n",
        "\n"
      ],
      "metadata": {
        "id": "GFhzY2aynhI3"
      }
    },
    {
      "cell_type": "markdown",
      "source": [
        "27. an polynomial regression be applied to multiple variables?\n",
        "\n",
        "    Absolutely! Polynomial regression can be applied to multiple variables, and this is often called multivariate polynomial regression or simply polynomial regression with multiple predictors.\n",
        "\n"
      ],
      "metadata": {
        "id": "q0Tu-pCHnsEe"
      }
    },
    {
      "cell_type": "markdown",
      "source": [
        "28. What are the limitations of polynomial regression?\n",
        "\n",
        "    1. Overfitting Risk\n",
        "    2. Extrapolation Issues\n",
        "    3. Model Complexity and Interpretability\n",
        "    4. Multicollinearity\n",
        "    5. Sensitive to Outliers"
      ],
      "metadata": {
        "id": "AhAMrm2Rn5Tn"
      }
    },
    {
      "cell_type": "markdown",
      "source": [
        "29. What methods can be used to evaluate model fit when selecting the degree of a polynomial?\n",
        "\n",
        "    1. Train-Test Split / Cross-Validation\n",
        "    2. Mean Squared Error (MSE) or Root Mean Squared Error (RMSE)\n",
        "    3. Adjusted\n",
        "𝑅\n",
        "2\n",
        "R\n",
        "2\n",
        "    4. Akaike Information Criterion (AIC) / Bayesian Information Criterion (BIC)\n",
        "    5. Visual Inspection of Residuals"
      ],
      "metadata": {
        "id": "jaqBZY4loJAu"
      }
    },
    {
      "cell_type": "markdown",
      "source": [
        "30. Why is visualization important in polynomial regression?\n",
        "\n",
        "    1. Detecting Non-linear Patterns\n",
        "    2. Choosing the Right Degree\n",
        "    3. Checking Residuals\n",
        "    4. Interpreting Model Behavior"
      ],
      "metadata": {
        "id": "M9j6Afy7obok"
      }
    },
    {
      "cell_type": "markdown",
      "source": [
        "31. How is polynomial regression implemented in Python?"
      ],
      "metadata": {
        "id": "nB9IjhvpoqAU"
      }
    },
    {
      "cell_type": "code",
      "source": [
        "import numpy as np\n",
        "import matplotlib.pyplot as plt\n",
        "from sklearn.linear_model import LinearRegression\n",
        "from sklearn.preprocessing import PolynomialFeatures\n",
        "from sklearn.metrics import mean_squared_error\n"
      ],
      "metadata": {
        "id": "MklY_qpxo_X3"
      },
      "execution_count": 1,
      "outputs": []
    },
    {
      "cell_type": "code",
      "source": [
        "# Sample data\n",
        "X = np.array([1, 2, 3, 4, 5, 6, 7, 8, 9]).reshape(-1, 1)\n",
        "y = np.array([3, 7, 13, 25, 40, 61, 85, 115, 150])\n"
      ],
      "metadata": {
        "id": "Vn8conVKpAfw"
      },
      "execution_count": 2,
      "outputs": []
    },
    {
      "cell_type": "code",
      "source": [
        "poly = PolynomialFeatures(degree=2)\n",
        "X_poly = poly.fit_transform(X)\n"
      ],
      "metadata": {
        "id": "4iPtHv2SpHWA"
      },
      "execution_count": 3,
      "outputs": []
    },
    {
      "cell_type": "code",
      "source": [
        "model = LinearRegression()\n",
        "model.fit(X_poly, y)\n"
      ],
      "metadata": {
        "colab": {
          "base_uri": "https://localhost:8080/",
          "height": 80
        },
        "id": "ZmALZEnVpJxS",
        "outputId": "8ebde845-31bd-4727-ea12-e5b6c684e6ea"
      },
      "execution_count": 4,
      "outputs": [
        {
          "output_type": "execute_result",
          "data": {
            "text/plain": [
              "LinearRegression()"
            ],
            "text/html": [
              "<style>#sk-container-id-1 {\n",
              "  /* Definition of color scheme common for light and dark mode */\n",
              "  --sklearn-color-text: #000;\n",
              "  --sklearn-color-text-muted: #666;\n",
              "  --sklearn-color-line: gray;\n",
              "  /* Definition of color scheme for unfitted estimators */\n",
              "  --sklearn-color-unfitted-level-0: #fff5e6;\n",
              "  --sklearn-color-unfitted-level-1: #f6e4d2;\n",
              "  --sklearn-color-unfitted-level-2: #ffe0b3;\n",
              "  --sklearn-color-unfitted-level-3: chocolate;\n",
              "  /* Definition of color scheme for fitted estimators */\n",
              "  --sklearn-color-fitted-level-0: #f0f8ff;\n",
              "  --sklearn-color-fitted-level-1: #d4ebff;\n",
              "  --sklearn-color-fitted-level-2: #b3dbfd;\n",
              "  --sklearn-color-fitted-level-3: cornflowerblue;\n",
              "\n",
              "  /* Specific color for light theme */\n",
              "  --sklearn-color-text-on-default-background: var(--sg-text-color, var(--theme-code-foreground, var(--jp-content-font-color1, black)));\n",
              "  --sklearn-color-background: var(--sg-background-color, var(--theme-background, var(--jp-layout-color0, white)));\n",
              "  --sklearn-color-border-box: var(--sg-text-color, var(--theme-code-foreground, var(--jp-content-font-color1, black)));\n",
              "  --sklearn-color-icon: #696969;\n",
              "\n",
              "  @media (prefers-color-scheme: dark) {\n",
              "    /* Redefinition of color scheme for dark theme */\n",
              "    --sklearn-color-text-on-default-background: var(--sg-text-color, var(--theme-code-foreground, var(--jp-content-font-color1, white)));\n",
              "    --sklearn-color-background: var(--sg-background-color, var(--theme-background, var(--jp-layout-color0, #111)));\n",
              "    --sklearn-color-border-box: var(--sg-text-color, var(--theme-code-foreground, var(--jp-content-font-color1, white)));\n",
              "    --sklearn-color-icon: #878787;\n",
              "  }\n",
              "}\n",
              "\n",
              "#sk-container-id-1 {\n",
              "  color: var(--sklearn-color-text);\n",
              "}\n",
              "\n",
              "#sk-container-id-1 pre {\n",
              "  padding: 0;\n",
              "}\n",
              "\n",
              "#sk-container-id-1 input.sk-hidden--visually {\n",
              "  border: 0;\n",
              "  clip: rect(1px 1px 1px 1px);\n",
              "  clip: rect(1px, 1px, 1px, 1px);\n",
              "  height: 1px;\n",
              "  margin: -1px;\n",
              "  overflow: hidden;\n",
              "  padding: 0;\n",
              "  position: absolute;\n",
              "  width: 1px;\n",
              "}\n",
              "\n",
              "#sk-container-id-1 div.sk-dashed-wrapped {\n",
              "  border: 1px dashed var(--sklearn-color-line);\n",
              "  margin: 0 0.4em 0.5em 0.4em;\n",
              "  box-sizing: border-box;\n",
              "  padding-bottom: 0.4em;\n",
              "  background-color: var(--sklearn-color-background);\n",
              "}\n",
              "\n",
              "#sk-container-id-1 div.sk-container {\n",
              "  /* jupyter's `normalize.less` sets `[hidden] { display: none; }`\n",
              "     but bootstrap.min.css set `[hidden] { display: none !important; }`\n",
              "     so we also need the `!important` here to be able to override the\n",
              "     default hidden behavior on the sphinx rendered scikit-learn.org.\n",
              "     See: https://github.com/scikit-learn/scikit-learn/issues/21755 */\n",
              "  display: inline-block !important;\n",
              "  position: relative;\n",
              "}\n",
              "\n",
              "#sk-container-id-1 div.sk-text-repr-fallback {\n",
              "  display: none;\n",
              "}\n",
              "\n",
              "div.sk-parallel-item,\n",
              "div.sk-serial,\n",
              "div.sk-item {\n",
              "  /* draw centered vertical line to link estimators */\n",
              "  background-image: linear-gradient(var(--sklearn-color-text-on-default-background), var(--sklearn-color-text-on-default-background));\n",
              "  background-size: 2px 100%;\n",
              "  background-repeat: no-repeat;\n",
              "  background-position: center center;\n",
              "}\n",
              "\n",
              "/* Parallel-specific style estimator block */\n",
              "\n",
              "#sk-container-id-1 div.sk-parallel-item::after {\n",
              "  content: \"\";\n",
              "  width: 100%;\n",
              "  border-bottom: 2px solid var(--sklearn-color-text-on-default-background);\n",
              "  flex-grow: 1;\n",
              "}\n",
              "\n",
              "#sk-container-id-1 div.sk-parallel {\n",
              "  display: flex;\n",
              "  align-items: stretch;\n",
              "  justify-content: center;\n",
              "  background-color: var(--sklearn-color-background);\n",
              "  position: relative;\n",
              "}\n",
              "\n",
              "#sk-container-id-1 div.sk-parallel-item {\n",
              "  display: flex;\n",
              "  flex-direction: column;\n",
              "}\n",
              "\n",
              "#sk-container-id-1 div.sk-parallel-item:first-child::after {\n",
              "  align-self: flex-end;\n",
              "  width: 50%;\n",
              "}\n",
              "\n",
              "#sk-container-id-1 div.sk-parallel-item:last-child::after {\n",
              "  align-self: flex-start;\n",
              "  width: 50%;\n",
              "}\n",
              "\n",
              "#sk-container-id-1 div.sk-parallel-item:only-child::after {\n",
              "  width: 0;\n",
              "}\n",
              "\n",
              "/* Serial-specific style estimator block */\n",
              "\n",
              "#sk-container-id-1 div.sk-serial {\n",
              "  display: flex;\n",
              "  flex-direction: column;\n",
              "  align-items: center;\n",
              "  background-color: var(--sklearn-color-background);\n",
              "  padding-right: 1em;\n",
              "  padding-left: 1em;\n",
              "}\n",
              "\n",
              "\n",
              "/* Toggleable style: style used for estimator/Pipeline/ColumnTransformer box that is\n",
              "clickable and can be expanded/collapsed.\n",
              "- Pipeline and ColumnTransformer use this feature and define the default style\n",
              "- Estimators will overwrite some part of the style using the `sk-estimator` class\n",
              "*/\n",
              "\n",
              "/* Pipeline and ColumnTransformer style (default) */\n",
              "\n",
              "#sk-container-id-1 div.sk-toggleable {\n",
              "  /* Default theme specific background. It is overwritten whether we have a\n",
              "  specific estimator or a Pipeline/ColumnTransformer */\n",
              "  background-color: var(--sklearn-color-background);\n",
              "}\n",
              "\n",
              "/* Toggleable label */\n",
              "#sk-container-id-1 label.sk-toggleable__label {\n",
              "  cursor: pointer;\n",
              "  display: flex;\n",
              "  width: 100%;\n",
              "  margin-bottom: 0;\n",
              "  padding: 0.5em;\n",
              "  box-sizing: border-box;\n",
              "  text-align: center;\n",
              "  align-items: start;\n",
              "  justify-content: space-between;\n",
              "  gap: 0.5em;\n",
              "}\n",
              "\n",
              "#sk-container-id-1 label.sk-toggleable__label .caption {\n",
              "  font-size: 0.6rem;\n",
              "  font-weight: lighter;\n",
              "  color: var(--sklearn-color-text-muted);\n",
              "}\n",
              "\n",
              "#sk-container-id-1 label.sk-toggleable__label-arrow:before {\n",
              "  /* Arrow on the left of the label */\n",
              "  content: \"▸\";\n",
              "  float: left;\n",
              "  margin-right: 0.25em;\n",
              "  color: var(--sklearn-color-icon);\n",
              "}\n",
              "\n",
              "#sk-container-id-1 label.sk-toggleable__label-arrow:hover:before {\n",
              "  color: var(--sklearn-color-text);\n",
              "}\n",
              "\n",
              "/* Toggleable content - dropdown */\n",
              "\n",
              "#sk-container-id-1 div.sk-toggleable__content {\n",
              "  max-height: 0;\n",
              "  max-width: 0;\n",
              "  overflow: hidden;\n",
              "  text-align: left;\n",
              "  /* unfitted */\n",
              "  background-color: var(--sklearn-color-unfitted-level-0);\n",
              "}\n",
              "\n",
              "#sk-container-id-1 div.sk-toggleable__content.fitted {\n",
              "  /* fitted */\n",
              "  background-color: var(--sklearn-color-fitted-level-0);\n",
              "}\n",
              "\n",
              "#sk-container-id-1 div.sk-toggleable__content pre {\n",
              "  margin: 0.2em;\n",
              "  border-radius: 0.25em;\n",
              "  color: var(--sklearn-color-text);\n",
              "  /* unfitted */\n",
              "  background-color: var(--sklearn-color-unfitted-level-0);\n",
              "}\n",
              "\n",
              "#sk-container-id-1 div.sk-toggleable__content.fitted pre {\n",
              "  /* unfitted */\n",
              "  background-color: var(--sklearn-color-fitted-level-0);\n",
              "}\n",
              "\n",
              "#sk-container-id-1 input.sk-toggleable__control:checked~div.sk-toggleable__content {\n",
              "  /* Expand drop-down */\n",
              "  max-height: 200px;\n",
              "  max-width: 100%;\n",
              "  overflow: auto;\n",
              "}\n",
              "\n",
              "#sk-container-id-1 input.sk-toggleable__control:checked~label.sk-toggleable__label-arrow:before {\n",
              "  content: \"▾\";\n",
              "}\n",
              "\n",
              "/* Pipeline/ColumnTransformer-specific style */\n",
              "\n",
              "#sk-container-id-1 div.sk-label input.sk-toggleable__control:checked~label.sk-toggleable__label {\n",
              "  color: var(--sklearn-color-text);\n",
              "  background-color: var(--sklearn-color-unfitted-level-2);\n",
              "}\n",
              "\n",
              "#sk-container-id-1 div.sk-label.fitted input.sk-toggleable__control:checked~label.sk-toggleable__label {\n",
              "  background-color: var(--sklearn-color-fitted-level-2);\n",
              "}\n",
              "\n",
              "/* Estimator-specific style */\n",
              "\n",
              "/* Colorize estimator box */\n",
              "#sk-container-id-1 div.sk-estimator input.sk-toggleable__control:checked~label.sk-toggleable__label {\n",
              "  /* unfitted */\n",
              "  background-color: var(--sklearn-color-unfitted-level-2);\n",
              "}\n",
              "\n",
              "#sk-container-id-1 div.sk-estimator.fitted input.sk-toggleable__control:checked~label.sk-toggleable__label {\n",
              "  /* fitted */\n",
              "  background-color: var(--sklearn-color-fitted-level-2);\n",
              "}\n",
              "\n",
              "#sk-container-id-1 div.sk-label label.sk-toggleable__label,\n",
              "#sk-container-id-1 div.sk-label label {\n",
              "  /* The background is the default theme color */\n",
              "  color: var(--sklearn-color-text-on-default-background);\n",
              "}\n",
              "\n",
              "/* On hover, darken the color of the background */\n",
              "#sk-container-id-1 div.sk-label:hover label.sk-toggleable__label {\n",
              "  color: var(--sklearn-color-text);\n",
              "  background-color: var(--sklearn-color-unfitted-level-2);\n",
              "}\n",
              "\n",
              "/* Label box, darken color on hover, fitted */\n",
              "#sk-container-id-1 div.sk-label.fitted:hover label.sk-toggleable__label.fitted {\n",
              "  color: var(--sklearn-color-text);\n",
              "  background-color: var(--sklearn-color-fitted-level-2);\n",
              "}\n",
              "\n",
              "/* Estimator label */\n",
              "\n",
              "#sk-container-id-1 div.sk-label label {\n",
              "  font-family: monospace;\n",
              "  font-weight: bold;\n",
              "  display: inline-block;\n",
              "  line-height: 1.2em;\n",
              "}\n",
              "\n",
              "#sk-container-id-1 div.sk-label-container {\n",
              "  text-align: center;\n",
              "}\n",
              "\n",
              "/* Estimator-specific */\n",
              "#sk-container-id-1 div.sk-estimator {\n",
              "  font-family: monospace;\n",
              "  border: 1px dotted var(--sklearn-color-border-box);\n",
              "  border-radius: 0.25em;\n",
              "  box-sizing: border-box;\n",
              "  margin-bottom: 0.5em;\n",
              "  /* unfitted */\n",
              "  background-color: var(--sklearn-color-unfitted-level-0);\n",
              "}\n",
              "\n",
              "#sk-container-id-1 div.sk-estimator.fitted {\n",
              "  /* fitted */\n",
              "  background-color: var(--sklearn-color-fitted-level-0);\n",
              "}\n",
              "\n",
              "/* on hover */\n",
              "#sk-container-id-1 div.sk-estimator:hover {\n",
              "  /* unfitted */\n",
              "  background-color: var(--sklearn-color-unfitted-level-2);\n",
              "}\n",
              "\n",
              "#sk-container-id-1 div.sk-estimator.fitted:hover {\n",
              "  /* fitted */\n",
              "  background-color: var(--sklearn-color-fitted-level-2);\n",
              "}\n",
              "\n",
              "/* Specification for estimator info (e.g. \"i\" and \"?\") */\n",
              "\n",
              "/* Common style for \"i\" and \"?\" */\n",
              "\n",
              ".sk-estimator-doc-link,\n",
              "a:link.sk-estimator-doc-link,\n",
              "a:visited.sk-estimator-doc-link {\n",
              "  float: right;\n",
              "  font-size: smaller;\n",
              "  line-height: 1em;\n",
              "  font-family: monospace;\n",
              "  background-color: var(--sklearn-color-background);\n",
              "  border-radius: 1em;\n",
              "  height: 1em;\n",
              "  width: 1em;\n",
              "  text-decoration: none !important;\n",
              "  margin-left: 0.5em;\n",
              "  text-align: center;\n",
              "  /* unfitted */\n",
              "  border: var(--sklearn-color-unfitted-level-1) 1pt solid;\n",
              "  color: var(--sklearn-color-unfitted-level-1);\n",
              "}\n",
              "\n",
              ".sk-estimator-doc-link.fitted,\n",
              "a:link.sk-estimator-doc-link.fitted,\n",
              "a:visited.sk-estimator-doc-link.fitted {\n",
              "  /* fitted */\n",
              "  border: var(--sklearn-color-fitted-level-1) 1pt solid;\n",
              "  color: var(--sklearn-color-fitted-level-1);\n",
              "}\n",
              "\n",
              "/* On hover */\n",
              "div.sk-estimator:hover .sk-estimator-doc-link:hover,\n",
              ".sk-estimator-doc-link:hover,\n",
              "div.sk-label-container:hover .sk-estimator-doc-link:hover,\n",
              ".sk-estimator-doc-link:hover {\n",
              "  /* unfitted */\n",
              "  background-color: var(--sklearn-color-unfitted-level-3);\n",
              "  color: var(--sklearn-color-background);\n",
              "  text-decoration: none;\n",
              "}\n",
              "\n",
              "div.sk-estimator.fitted:hover .sk-estimator-doc-link.fitted:hover,\n",
              ".sk-estimator-doc-link.fitted:hover,\n",
              "div.sk-label-container:hover .sk-estimator-doc-link.fitted:hover,\n",
              ".sk-estimator-doc-link.fitted:hover {\n",
              "  /* fitted */\n",
              "  background-color: var(--sklearn-color-fitted-level-3);\n",
              "  color: var(--sklearn-color-background);\n",
              "  text-decoration: none;\n",
              "}\n",
              "\n",
              "/* Span, style for the box shown on hovering the info icon */\n",
              ".sk-estimator-doc-link span {\n",
              "  display: none;\n",
              "  z-index: 9999;\n",
              "  position: relative;\n",
              "  font-weight: normal;\n",
              "  right: .2ex;\n",
              "  padding: .5ex;\n",
              "  margin: .5ex;\n",
              "  width: min-content;\n",
              "  min-width: 20ex;\n",
              "  max-width: 50ex;\n",
              "  color: var(--sklearn-color-text);\n",
              "  box-shadow: 2pt 2pt 4pt #999;\n",
              "  /* unfitted */\n",
              "  background: var(--sklearn-color-unfitted-level-0);\n",
              "  border: .5pt solid var(--sklearn-color-unfitted-level-3);\n",
              "}\n",
              "\n",
              ".sk-estimator-doc-link.fitted span {\n",
              "  /* fitted */\n",
              "  background: var(--sklearn-color-fitted-level-0);\n",
              "  border: var(--sklearn-color-fitted-level-3);\n",
              "}\n",
              "\n",
              ".sk-estimator-doc-link:hover span {\n",
              "  display: block;\n",
              "}\n",
              "\n",
              "/* \"?\"-specific style due to the `<a>` HTML tag */\n",
              "\n",
              "#sk-container-id-1 a.estimator_doc_link {\n",
              "  float: right;\n",
              "  font-size: 1rem;\n",
              "  line-height: 1em;\n",
              "  font-family: monospace;\n",
              "  background-color: var(--sklearn-color-background);\n",
              "  border-radius: 1rem;\n",
              "  height: 1rem;\n",
              "  width: 1rem;\n",
              "  text-decoration: none;\n",
              "  /* unfitted */\n",
              "  color: var(--sklearn-color-unfitted-level-1);\n",
              "  border: var(--sklearn-color-unfitted-level-1) 1pt solid;\n",
              "}\n",
              "\n",
              "#sk-container-id-1 a.estimator_doc_link.fitted {\n",
              "  /* fitted */\n",
              "  border: var(--sklearn-color-fitted-level-1) 1pt solid;\n",
              "  color: var(--sklearn-color-fitted-level-1);\n",
              "}\n",
              "\n",
              "/* On hover */\n",
              "#sk-container-id-1 a.estimator_doc_link:hover {\n",
              "  /* unfitted */\n",
              "  background-color: var(--sklearn-color-unfitted-level-3);\n",
              "  color: var(--sklearn-color-background);\n",
              "  text-decoration: none;\n",
              "}\n",
              "\n",
              "#sk-container-id-1 a.estimator_doc_link.fitted:hover {\n",
              "  /* fitted */\n",
              "  background-color: var(--sklearn-color-fitted-level-3);\n",
              "}\n",
              "</style><div id=\"sk-container-id-1\" class=\"sk-top-container\"><div class=\"sk-text-repr-fallback\"><pre>LinearRegression()</pre><b>In a Jupyter environment, please rerun this cell to show the HTML representation or trust the notebook. <br />On GitHub, the HTML representation is unable to render, please try loading this page with nbviewer.org.</b></div><div class=\"sk-container\" hidden><div class=\"sk-item\"><div class=\"sk-estimator fitted sk-toggleable\"><input class=\"sk-toggleable__control sk-hidden--visually\" id=\"sk-estimator-id-1\" type=\"checkbox\" checked><label for=\"sk-estimator-id-1\" class=\"sk-toggleable__label fitted sk-toggleable__label-arrow\"><div><div>LinearRegression</div></div><div><a class=\"sk-estimator-doc-link fitted\" rel=\"noreferrer\" target=\"_blank\" href=\"https://scikit-learn.org/1.6/modules/generated/sklearn.linear_model.LinearRegression.html\">?<span>Documentation for LinearRegression</span></a><span class=\"sk-estimator-doc-link fitted\">i<span>Fitted</span></span></div></label><div class=\"sk-toggleable__content fitted\"><pre>LinearRegression()</pre></div> </div></div></div></div>"
            ]
          },
          "metadata": {},
          "execution_count": 4
        }
      ]
    },
    {
      "cell_type": "code",
      "source": [
        "y_pred = model.predict(X_poly)\n"
      ],
      "metadata": {
        "id": "OfyzhAUMpN7T"
      },
      "execution_count": 5,
      "outputs": []
    },
    {
      "cell_type": "code",
      "source": [
        "mse = mean_squared_error(y, y_pred)\n",
        "print(f\"Mean Squared Error: {mse:.2f}\")\n"
      ],
      "metadata": {
        "colab": {
          "base_uri": "https://localhost:8080/"
        },
        "id": "OyNIybAEpQUJ",
        "outputId": "ac5f068c-0e56-4bbb-de08-36698434536b"
      },
      "execution_count": 6,
      "outputs": [
        {
          "output_type": "stream",
          "name": "stdout",
          "text": [
            "Mean Squared Error: 0.33\n"
          ]
        }
      ]
    },
    {
      "cell_type": "code",
      "source": [
        "plt.scatter(X, y, color='blue', label='Actual data')\n",
        "plt.plot(X, y_pred, color='red', label='Polynomial fit')\n",
        "plt.xlabel('X')\n",
        "plt.ylabel('y')\n",
        "plt.legend()\n",
        "plt.title('Polynomial Regression Fit (degree=2)')\n",
        "plt.show()\n"
      ],
      "metadata": {
        "colab": {
          "base_uri": "https://localhost:8080/",
          "height": 472
        },
        "id": "ZSrxczJcpSTl",
        "outputId": "93633810-ccfa-4c9d-aa56-47a7b79beb4e"
      },
      "execution_count": 7,
      "outputs": [
        {
          "output_type": "display_data",
          "data": {
            "text/plain": [
              "<Figure size 640x480 with 1 Axes>"
            ],
            "image/png": "[encoded data removed]"
          },
          "metadata": {}
        }
      ]
    }
  ]
}